{
 "cells": [
  {
   "cell_type": "markdown",
   "id": "dc62a3d8-c542-4cf6-acf9-1c66fd3f0c33",
   "metadata": {},
   "source": [
    "# Integration and joint analysis of Xenium and Visium data"
   ]
  },
  {
   "cell_type": "markdown",
   "id": "723984d4-3750-4bf5-911a-dceca8266e8e",
   "metadata": {},
   "source": [
    "Authors: Elyas Heidari, Luca Marconato"
   ]
  },
  {
   "cell_type": "markdown",
   "id": "4939d52a-551b-4301-b3eb-39aaf3f1250d",
   "metadata": {},
   "source": [
    "2025/08 update—reproducibility notice. This notebook as been routinely tested until `spatialdata==0.4.0`. Newer versions of `spatialdata` may require some adjustements in the syntax."
   ]
  },
  {
   "cell_type": "code",
   "execution_count": 1,
   "id": "15aab39c-55cf-4fac-809e-69e7e091e52d",
   "metadata": {
    "tags": []
   },
   "outputs": [],
   "source": [
    "%load_ext autoreload\n",
    "%autoreload 2"
   ]
  },
  {
   "cell_type": "code",
   "execution_count": 2,
   "id": "dc57c08e-08bc-49f2-a332-14230d042deb",
   "metadata": {},
   "outputs": [],
   "source": [
    "%load_ext jupyter_black"
   ]
  },
  {
   "cell_type": "markdown",
   "id": "7294b2a5-e5ce-4f90-9c95-f63b61b0bb30",
   "metadata": {},
   "source": [
    "## Setup\n",
    "### Import libraries"
   ]
  },
  {
   "cell_type": "code",
   "execution_count": 3,
   "id": "bae38dbc-c0ea-460b-8536-12e3ed27b400",
   "metadata": {},
   "outputs": [],
   "source": [
    "import os\n",
    "import warnings\n",
    "\n",
    "os.environ[\"USE_PYGEOS\"] = \"0\"\n",
    "warnings.filterwarnings(\"ignore\")"
   ]
  },
  {
   "cell_type": "code",
   "execution_count": 4,
   "id": "18718fae-5230-4346-af3e-627e56ab3ad2",
   "metadata": {
    "tags": []
   },
   "outputs": [],
   "source": [
    "import shutil\n",
    "\n",
    "import anndata\n",
    "import scanpy as sc\n",
    "import spatialdata as sd\n",
    "\n",
    "# from napari_spatialdata import Interactive\n",
    "from spatialdata import aggregate\n",
    "from spatialdata.transformations import (\n",
    "    Identity,\n",
    "    Sequence,\n",
    "    align_elements_using_landmarks,\n",
    "    get_transformation,\n",
    "    set_transformation,\n",
    ")"
   ]
  },
  {
   "cell_type": "markdown",
   "id": "ec13509b-3181-4ca5-a12f-dc69ff269120",
   "metadata": {},
   "source": [
    "### Data paths"
   ]
  },
  {
   "cell_type": "markdown",
   "id": "d11101ee-0c71-413a-bb5f-41bf2bc58be2",
   "metadata": {},
   "source": [
    "#### Setting up the root data folders"
   ]
  },
  {
   "cell_type": "code",
   "execution_count": 5,
   "id": "9acac8f8-0593-42c0-91e4-5367d0a9286a",
   "metadata": {
    "tags": []
   },
   "outputs": [
    {
     "name": "stdout",
     "output_type": "stream",
     "text": [
      "current working directory: /Users/macbook/embl/projects/basel/spatialdata-notebooks/notebooks/paper_reproducibility\n"
     ]
    }
   ],
   "source": [
    "print(\"current working directory:\", os.getcwd())\n",
    "SPATIALDATA_SANDBOX_PATH = \"spatialdata-sandbox\"\n",
    "assert os.path.isdir(SPATIALDATA_SANDBOX_PATH), (\n",
    "    f\"{SPATIALDATA_SANDBOX_PATH} not found, please use symlinks to make it available\"\n",
    ")\n",
    "GENERATED_DATA_PATH = os.path.join(SPATIALDATA_SANDBOX_PATH, \"generated_data/xenium_visium_integration\")\n",
    "os.makedirs(GENERATED_DATA_PATH, exist_ok=True)"
   ]
  },
  {
   "cell_type": "markdown",
   "id": "f6e3f31d-cea3-4d2f-8aaa-e11f22e6f911",
   "metadata": {},
   "source": [
    "#### Data to be downloaded"
   ]
  },
  {
   "cell_type": "markdown",
   "id": "14faa312-1c8b-4f2c-8fe6-913808f7b901",
   "metadata": {},
   "source": [
    "scRNA-Seq reference atlas from [Wu et al., Nat. Genet 2021](https://www.nature.com/articles/s41588-021-00911-1). It can be [downloaded from here](https://s3.embl.de/spatialdata/spatialdata-sandbox/generated_data/xenium_visium_integration/BC_atlas_xe.h5ad)."
   ]
  },
  {
   "cell_type": "code",
   "execution_count": 6,
   "id": "72e33840-8421-4355-bd5c-6646beb5cea9",
   "metadata": {
    "tags": []
   },
   "outputs": [],
   "source": [
    "BC_SC_ATLAS_PATH = os.path.join(GENERATED_DATA_PATH, \"BC_atlas_xe.h5ad\")"
   ]
  },
  {
   "cell_type": "markdown",
   "id": "eb115a2f-751a-4b8d-bcec-e52d40593d0c",
   "metadata": {},
   "source": [
    "Clonal information derived from the Visium data, [can be downloaded from here](https://s3.embl.de/spatialdata/spatialdata-sandbox/generated_data/xenium_visium_integration/visium_copyKat.h5ad)."
   ]
  },
  {
   "cell_type": "code",
   "execution_count": 7,
   "id": "5047d4cb-0fe4-48ec-abe4-7e34fc66df59",
   "metadata": {
    "tags": []
   },
   "outputs": [],
   "source": [
    "VISIUM_CLONAL_PATH = os.path.join(GENERATED_DATA_PATH, \"visium_copyKat.h5ad\")"
   ]
  },
  {
   "cell_type": "markdown",
   "id": "95a35110-3a1a-4c58-b848-8deac717ebc9",
   "metadata": {},
   "source": [
    "Zarr file with annotated landmark locations and a ROI polygon, drawn with napari-spatialdata and saved into a SpatialData object, [can be downloaded from here](https://s3.embl.de/spatialdata/spatialdata-sandbox/generated_data/xenium_visium_integration/sandbox.zarr.zip).\n",
    "\n",
    "Note: some software for extracting `.zip` files will create an outer folder called `sandbox.zarr`, resulting in a directory structure like `sandbox.zarr/sandbox.zarr/`. Please ensure that only the inner `sandbox.zarr` is present (the one containing the `.zgroup` file)."
   ]
  },
  {
   "cell_type": "code",
   "execution_count": 8,
   "id": "f4c9ad41-5f8b-4ed6-91d5-2490ba78c2f9",
   "metadata": {
    "tags": []
   },
   "outputs": [],
   "source": [
    "LANDMARKS_SDATA_PATH = os.path.join(GENERATED_DATA_PATH, \"sandbox.zarr\")"
   ]
  },
  {
   "cell_type": "markdown",
   "id": "18247140-7021-45c6-b915-c1c548c4adea",
   "metadata": {},
   "source": [
    "#### Data converted to Zarr with scripts from `spatialdata-sandbox` (can also be downloaded)"
   ]
  },
  {
   "cell_type": "markdown",
   "id": "a621de65-bc15-44e4-82c0-779f87567e43",
   "metadata": {},
   "source": [
    "To get this data:\n",
    "1. run spatialdata-sandbox/xenium_rep1_io/download.py;\n",
    "2. run spatialdata-sandbox/xenium_rep1_io/to_zarr.py to create the zarr files.\n",
    "Alternatively, it [can be downloaded from here](https://s3.embl.de/spatialdata/spatialdata-sandbox/xenium_rep1_io.zip)."
   ]
  },
  {
   "cell_type": "code",
   "execution_count": 9,
   "id": "cfef7b61-c627-43c3-901d-96ecf6d3c518",
   "metadata": {
    "tags": []
   },
   "outputs": [],
   "source": [
    "XE_REP1_PATH = os.path.join(SPATIALDATA_SANDBOX_PATH, \"xenium_rep1_io/data.zarr\")"
   ]
  },
  {
   "cell_type": "markdown",
   "id": "6be27012-647c-4920-9063-a6dbc84280ef",
   "metadata": {},
   "source": [
    "To get this data:\n",
    "1. run spatialdata-sandbox/xenium_rep2_io/download.py;\n",
    "2. run spatialdata-sandbox/xenium_rep2_io/to_zarr.py to create the zarr files (the `.zarr` file is not available to download as for the dataset above). "
   ]
  },
  {
   "cell_type": "code",
   "execution_count": 10,
   "id": "2953c562-6709-400b-927a-175b53901771",
   "metadata": {
    "tags": []
   },
   "outputs": [],
   "source": [
    "XE_REP2_PATH = os.path.join(SPATIALDATA_SANDBOX_PATH, \"xenium_rep2_io/data.zarr\")"
   ]
  },
  {
   "cell_type": "markdown",
   "id": "81858794-6837-47cf-b226-b221150fc829",
   "metadata": {
    "tags": []
   },
   "source": [
    "To get this data:\n",
    "1. run spatialdata-sandbox/visium_associated_xenium_io/download.py\n",
    "2. run spatialdata-sandbox/visium_associated_xenium_io/to_zarr.py to create the zarr files\n",
    "Alternatively, it [can be downloaded from here](https://s3.embl.de/spatialdata/spatialdata-sandbox/visium_associated_xenium_io.zip)."
   ]
  },
  {
   "cell_type": "code",
   "execution_count": 11,
   "id": "44d9d918-9a81-46c9-89c5-20db7ced2275",
   "metadata": {
    "tags": []
   },
   "outputs": [],
   "source": [
    "VISIUM_PATH = os.path.join(SPATIALDATA_SANDBOX_PATH, \"visium_associated_xenium_io/data.zarr\")"
   ]
  },
  {
   "cell_type": "markdown",
   "id": "9fee409f-48cc-4941-9b0c-56ef2c3bcdf7",
   "metadata": {},
   "source": [
    "#### Checking that all the data paths are available."
   ]
  },
  {
   "cell_type": "code",
   "execution_count": 12,
   "id": "f7477616-7a76-4253-83d4-f7f1dbdc0f79",
   "metadata": {
    "tags": []
   },
   "outputs": [],
   "source": [
    "paths = [\n",
    "    BC_SC_ATLAS_PATH,\n",
    "    VISIUM_CLONAL_PATH,\n",
    "    XE_REP1_PATH,\n",
    "    XE_REP2_PATH,\n",
    "    VISIUM_PATH,\n",
    "    LANDMARKS_SDATA_PATH,\n",
    "]\n",
    "for path in paths:\n",
    "    assert os.path.exists(path), f\"{path} not found\""
   ]
  },
  {
   "cell_type": "markdown",
   "id": "780d4b35-89fa-4c64-acb3-26986d81737e",
   "metadata": {
    "tags": []
   },
   "source": [
    "#### Data that will be generated by this notebook\n",
    "\n",
    "The notebook will update in-place some of the root files above, and will also create the following Zarr files"
   ]
  },
  {
   "cell_type": "code",
   "execution_count": 13,
   "id": "d371cb73-2620-4791-ab5f-b1488a31ba27",
   "metadata": {
    "tags": []
   },
   "outputs": [],
   "source": [
    "# output paths for xenium_rep1, xenium_rep2 and visium data, after subsetting to the common area and being transformed\n",
    "XE_REP1_ROI_PATH = os.path.join(GENERATED_DATA_PATH, \"xe_rep1_roi.zarr\")\n",
    "XE_REP2_ROI_PATH = os.path.join(GENERATED_DATA_PATH, \"xe_rep2_roi.zarr\")\n",
    "VISIUM_ROI_PATH = os.path.join(GENERATED_DATA_PATH, \"visium_roi.zarr\")"
   ]
  },
  {
   "cell_type": "markdown",
   "id": "cc7f626a-1c1a-4e35-912c-6c05a0b6057c",
   "metadata": {},
   "source": [
    "### Loading the data"
   ]
  },
  {
   "cell_type": "code",
   "execution_count": 14,
   "id": "62e23f90-46ce-4833-8dd2-34373d94497b",
   "metadata": {
    "tags": []
   },
   "outputs": [
    {
     "name": "stderr",
     "output_type": "stream",
     "text": [
      "WARNING:ome_zarr.io:version mismatch: detected: RasterFormatV02, requested: FormatV04\n",
      "WARNING:ome_zarr.io:version mismatch: detected: RasterFormatV02, requested: FormatV04\n",
      "WARNING:ome_zarr.io:version mismatch: detected: RasterFormatV02, requested: FormatV04\n",
      "WARNING:ome_zarr.io:version mismatch: detected: RasterFormatV02, requested: FormatV04\n",
      "WARNING:ome_zarr.io:version mismatch: detected: RasterFormatV02, requested: FormatV04\n",
      "WARNING:ome_zarr.io:version mismatch: detected: RasterFormatV02, requested: FormatV04\n",
      "WARNING:ome_zarr.io:version mismatch: detected: RasterFormatV02, requested: FormatV04\n"
     ]
    }
   ],
   "source": [
    "bc_sc_atlas_adata = sc.read(BC_SC_ATLAS_PATH)\n",
    "bc_sc_atlas_adata.obs[\"dataset\"] = \"atlas\"\n",
    "\n",
    "xe_rep1_sdata = sd.read_zarr(XE_REP1_PATH)\n",
    "xe_rep1_adata = xe_rep1_sdata[\"table\"]\n",
    "xe_rep1_adata.obs[\"dataset\"] = \"xe_rep1\"\n",
    "\n",
    "xe_rep2_sdata = sd.read_zarr(XE_REP2_PATH)\n",
    "xe_rep2_adata = xe_rep2_sdata[\"table\"]\n",
    "xe_rep2_adata.obs[\"dataset\"] = \"xe_rep2\"\n",
    "\n",
    "visium_sdata = sd.read_zarr(VISIUM_PATH)\n",
    "visium_adata = visium_sdata[\"table\"]\n",
    "visium_adata.obs[\"dataset\"] = \"visium\"\n",
    "\n",
    "landmarks_sdata = sd.read_zarr(LANDMARKS_SDATA_PATH)\n",
    "clonal_adata = sc.read(VISIUM_CLONAL_PATH)"
   ]
  },
  {
   "cell_type": "code",
   "execution_count": 15,
   "id": "d27c3f67-b9e6-40cb-91e2-583cfe2b5a23",
   "metadata": {
    "tags": []
   },
   "outputs": [
    {
     "data": {
      "text/plain": [
       "SpatialData object, with associated Zarr store: /Users/macbook/embl/projects/basel/spatialdata-sandbox/generated_data/xenium_visium_integration/sandbox.zarr\n",
       "└── Shapes\n",
       "      ├── 'box': GeoDataFrame shape: (1, 1) (2D shapes)\n",
       "      ├── 'rois': GeoDataFrame shape: (4, 1) (2D shapes)\n",
       "      ├── 'visium_lm': GeoDataFrame shape: (3, 2) (2D shapes)\n",
       "      ├── 'xe_rep1_lm': GeoDataFrame shape: (3, 2) (2D shapes)\n",
       "      └── 'xe_rep2_lm': GeoDataFrame shape: (3, 2) (2D shapes)\n",
       "with coordinate systems:\n",
       "    ▸ 'global', with elements:\n",
       "        box (Shapes), rois (Shapes), visium_lm (Shapes), xe_rep1_lm (Shapes), xe_rep2_lm (Shapes)"
      ]
     },
     "execution_count": 15,
     "metadata": {},
     "output_type": "execute_result"
    }
   ],
   "source": [
    "landmarks_sdata"
   ]
  },
  {
   "cell_type": "markdown",
   "id": "d42fe860-6945-40ce-823e-c82fc833904a",
   "metadata": {},
   "source": [
    "### Integrating annotations"
   ]
  },
  {
   "cell_type": "markdown",
   "id": "687960bf-816f-4691-a58e-1f73596d2459",
   "metadata": {},
   "source": [
    "#### Transferring cell-types into Xenium"
   ]
  },
  {
   "cell_type": "markdown",
   "id": "7e3c1a45-53c1-4c75-9d5e-3b8813ae471e",
   "metadata": {},
   "source": [
    "Let's transfer the cell-types information from an single-cell atlas dataset to the Xenium cells. We will cache the result."
   ]
  },
  {
   "cell_type": "code",
   "execution_count": 16,
   "id": "9791bfc3-1aee-40e9-85b9-0d3b89c12ae2",
   "metadata": {
    "tags": []
   },
   "outputs": [],
   "source": [
    "def annotate_bc_xe(bc_sc_atlas_adata, adata_query):\n",
    "    genes = list(set(bc_sc_atlas_adata.var_names) & set(adata_query.var_names))\n",
    "    bc_sc_atlas_adata = bc_sc_atlas_adata[:, genes]\n",
    "    adata_query = adata_query[:, genes]\n",
    "    sc.pp.normalize_total(adata_query, target_sum=1e4)\n",
    "    sc.pp.log1p(adata_query)\n",
    "\n",
    "    sc.pp.pca(bc_sc_atlas_adata)\n",
    "    sc.pp.neighbors(bc_sc_atlas_adata)\n",
    "    sc.tl.umap(bc_sc_atlas_adata)\n",
    "    sc.tl.ingest(adata_query, bc_sc_atlas_adata, obs=\"celltype_major\")\n",
    "\n",
    "    ad = {}\n",
    "    for t in adata_query.obs[\"celltype_major\"].unique():\n",
    "        query_sub = adata_query[adata_query.obs[\"celltype_major\"] == t]\n",
    "        ref_sub = bc_sc_atlas_adata[bc_sc_atlas_adata.obs[\"celltype_major\"] == t]\n",
    "        sc.pp.pca(ref_sub)\n",
    "        sc.pp.neighbors(ref_sub)\n",
    "        sc.tl.umap(ref_sub)\n",
    "        sc.tl.ingest(query_sub, ref_sub, obs=\"celltype_minor\", inplace=True)\n",
    "        ad[t] = query_sub\n",
    "\n",
    "    adata_query = anndata.concat(ad)\n",
    "    return adata_query"
   ]
  },
  {
   "cell_type": "code",
   "execution_count": 17,
   "id": "77b63f5d-4f90-4239-80cf-acb9f95c6db5",
   "metadata": {
    "tags": []
   },
   "outputs": [
    {
     "name": "stdout",
     "output_type": "stream",
     "text": [
      "CPU times: user 70.5 ms, sys: 40.5 ms, total: 111 ms\n",
      "Wall time: 114 ms\n"
     ]
    }
   ],
   "source": [
    "%%time\n",
    "CELL_TYPES_ALREADY_TRANSFERRED = True\n",
    "if not CELL_TYPES_ALREADY_TRANSFERRED:\n",
    "    # this code can take 10-60 min to execute\n",
    "    xe_rep1_annotated = annotate_bc_xe(bc_sc_atlas_adata, xe_rep1_adata)\n",
    "    xe_rep2_annotated = annotate_bc_xe(bc_sc_atlas_adata, xe_rep2_adata)\n",
    "    xe_rep1_annotated.write(os.path.join(GENERATED_DATA_PATH, \"xe_rep1_annotated.h5ad\"))\n",
    "    xe_rep2_annotated.write(os.path.join(GENERATED_DATA_PATH, \"xe_rep2_annotated.h5ad\"))\n",
    "else:\n",
    "    xe_rep1_annotated = sc.read(os.path.join(GENERATED_DATA_PATH, \"xe_rep1_annotated.h5ad\"))\n",
    "    xe_rep2_annotated = sc.read(os.path.join(GENERATED_DATA_PATH, \"xe_rep2_annotated.h5ad\"))"
   ]
  },
  {
   "cell_type": "code",
   "execution_count": 18,
   "id": "aee8469c-df79-404f-98b7-452641a63905",
   "metadata": {
    "tags": []
   },
   "outputs": [],
   "source": [
    "xe_rep1_sdata[\"table\"].obs[[\"celltype_major\", \"celltype_minor\"]] = xe_rep1_annotated.obs[\n",
    "    [\"celltype_major\", \"celltype_minor\"]\n",
    "]\n",
    "xe_rep2_sdata[\"table\"].obs[[\"celltype_major\", \"celltype_minor\"]] = xe_rep2_annotated.obs[\n",
    "    [\"celltype_major\", \"celltype_minor\"]\n",
    "]"
   ]
  },
  {
   "cell_type": "markdown",
   "id": "8797d125-0472-46c8-9444-fadcd240ea34",
   "metadata": {},
   "source": [
    "#### Adding clonality information into Visium"
   ]
  },
  {
   "cell_type": "code",
   "execution_count": 19,
   "id": "1fabe825-eb9f-492f-9613-65b937ae5d92",
   "metadata": {
    "tags": []
   },
   "outputs": [],
   "source": [
    "clones = clonal_adata.obs.set_index(\"barcode\").loc[visium_sdata[\"table\"].obs.index][\"clone\"]\n",
    "visium_sdata[\"table\"].obs[\"clone\"] = clones"
   ]
  },
  {
   "cell_type": "markdown",
   "id": "a1550e01-896f-4efe-8af3-d09738e90c7d",
   "metadata": {},
   "source": [
    "## Spatial alignment"
   ]
  },
  {
   "cell_type": "markdown",
   "id": "f0225dd9-1046-4b96-a95c-fe84031874ad",
   "metadata": {
    "tags": []
   },
   "source": [
    "### Alignment using 3 landmarks points\n",
    "\n",
    "We take `xe_rep1` as the reference section and align the other two to it. The new coordinate systems is called `aligned`."
   ]
  },
  {
   "cell_type": "code",
   "execution_count": 20,
   "id": "4e70d5f5-bfdc-468b-81c7-09a7da691c30",
   "metadata": {
    "tags": []
   },
   "outputs": [],
   "source": [
    "xenium_subset = sd.SpatialData(\n",
    "    images={\n",
    "        \"xe_rep1\": xe_rep1_sdata.images[\"morphology_mip\"],\n",
    "        \"xe_rep2\": xe_rep2_sdata.images[\"morphology_mip\"],\n",
    "        \"visium\": visium_sdata.images[\"CytAssist_FFPE_Human_Breast_Cancer_full_image\"],\n",
    "    }\n",
    ")"
   ]
  },
  {
   "cell_type": "code",
   "execution_count": 21,
   "id": "be8c6f95-6e48-4337-b871-087b92ae2d6c",
   "metadata": {
    "tags": []
   },
   "outputs": [],
   "source": [
    "# this creates the 'aligned` coordinate system, maps the moving (xenium rep 2) and reference elements (xenium rep 1) to that system\n",
    "affine_rep2_to_rep1 = align_elements_using_landmarks(\n",
    "    references_coords=landmarks_sdata.shapes[\"xe_rep1_lm\"],\n",
    "    moving_coords=landmarks_sdata.shapes[\"xe_rep2_lm\"],\n",
    "    reference_element=xenium_subset.images[\"xe_rep1\"],\n",
    "    moving_element=xenium_subset.images[\"xe_rep2\"],\n",
    "    reference_coordinate_system=\"global\",\n",
    "    moving_coordinate_system=\"global\",\n",
    "    new_coordinate_system=\"aligned\",\n",
    ")"
   ]
  },
  {
   "cell_type": "code",
   "execution_count": 22,
   "id": "8cb4dd0a-dec9-4aed-bf70-e06ce133c382",
   "metadata": {
    "tags": []
   },
   "outputs": [],
   "source": [
    "# same as above. Now the moving element is visium and the reference element is again xenium rep 1\n",
    "affine_visium_to_rep1 = align_elements_using_landmarks(\n",
    "    references_coords=landmarks_sdata.shapes[\"xe_rep1_lm\"],\n",
    "    moving_coords=landmarks_sdata.shapes[\"visium_lm\"],\n",
    "    reference_element=xenium_subset.images[\"xe_rep1\"],\n",
    "    moving_element=xenium_subset.images[\"visium\"],\n",
    "    reference_coordinate_system=\"global\",\n",
    "    moving_coordinate_system=\"CytAssist_FFPE_Human_Breast_Cancer\",\n",
    "    new_coordinate_system=\"aligned\",\n",
    ")"
   ]
  },
  {
   "cell_type": "raw",
   "id": "61279c7e-9239-4a08-abc5-6cfbfb364ca0",
   "metadata": {},
   "source": [
    "# we can visualize the results with napari\n",
    "from napari_spatialdata import Interactive\n",
    "\n",
    "Interactive([xenium_subset, landmarks_sdata])"
   ]
  },
  {
   "cell_type": "markdown",
   "id": "22c30486-fc2c-4a48-b865-49b3f933b91b",
   "metadata": {},
   "source": [
    "For each element of xenium rep 1, xenium rep 2 and of visium, let's add a transformation to the coordinate system 'aligned'. This instruct the framework how to map each element to the 'aligned' coordinate system.\n",
    "\n",
    "This part of the code will be simplified and become more ergonomic after the new coordinate systems refactoring."
   ]
  },
  {
   "cell_type": "code",
   "execution_count": 23,
   "id": "8c6a6db4-430d-4eb1-b132-9f849060380f",
   "metadata": {
    "tags": []
   },
   "outputs": [],
   "source": [
    "# we use an identity for xenium rep 1 since we use it as a reference\n",
    "from spatialdata import SpatialData\n",
    "from spatialdata.transformations import BaseTransformation\n",
    "\n",
    "\n",
    "def postpone_transformation(\n",
    "    sdata: SpatialData,\n",
    "    transformation: BaseTransformation,\n",
    "    source_coordinate_system: str,\n",
    "    target_coordinate_system: str,\n",
    "):\n",
    "    for element_type, element_name, element in sdata._gen_elements():\n",
    "        old_transformations = get_transformation(element, get_all=True)\n",
    "        if source_coordinate_system in old_transformations:\n",
    "            old_transformation = old_transformations[source_coordinate_system]\n",
    "            sequence = Sequence([old_transformation, transformation])\n",
    "            set_transformation(element, sequence, target_coordinate_system)\n",
    "\n",
    "\n",
    "postpone_transformation(\n",
    "    sdata=xe_rep1_sdata,\n",
    "    transformation=Identity(),\n",
    "    source_coordinate_system=\"global\",\n",
    "    target_coordinate_system=\"aligned\",\n",
    ")\n",
    "postpone_transformation(\n",
    "    sdata=xe_rep2_sdata,\n",
    "    transformation=affine_rep2_to_rep1,\n",
    "    source_coordinate_system=\"global\",\n",
    "    target_coordinate_system=\"aligned\",\n",
    ")\n",
    "postpone_transformation(\n",
    "    sdata=visium_sdata,\n",
    "    transformation=affine_visium_to_rep1,\n",
    "    source_coordinate_system=\"CytAssist_FFPE_Human_Breast_Cancer\",\n",
    "    target_coordinate_system=\"aligned\",\n",
    ")"
   ]
  },
  {
   "cell_type": "markdown",
   "id": "21760c8f-ac58-4629-b7c9-9621afa286ae",
   "metadata": {},
   "source": [
    "### Subsetting of the data\n",
    "Used for debugging and dev purposes, remove later"
   ]
  },
  {
   "cell_type": "markdown",
   "id": "8a984ab6-798a-418d-9f08-545e136f068b",
   "metadata": {
    "tags": []
   },
   "source": [
    "### Subsetting the objects to the common area"
   ]
  },
  {
   "cell_type": "markdown",
   "id": "4d2f48c1-c0fa-4ff5-8f3a-ed51ca6f766c",
   "metadata": {
    "tags": []
   },
   "source": [
    "We now want to subset each object to the common area between the two Xenium replicates and the Visium data. Currently there is no function available in `spatialdata` to do a spatial subset by a generic polygon (it will be implemented), so for performing this opertation we will manually transform the data to the same coordinate system, and then implement here a version of the spatial subset."
   ]
  },
  {
   "cell_type": "markdown",
   "id": "ca3526e1-f7f9-4a3b-8888-e11b3bf53408",
   "metadata": {},
   "source": [
    "#### Transforming cells and single-molecule points"
   ]
  },
  {
   "cell_type": "markdown",
   "id": "01e9dca6-68d3-46c2-815e-6a115a837b32",
   "metadata": {},
   "source": [
    "We will now transform the data to the `aligned` coordinate system. Note that above we just defined transformations to this coordinate system but we didn't modified the data itself (this is an expensive operation). Let's create new objects that don't contain the large images."
   ]
  },
  {
   "cell_type": "code",
   "execution_count": 24,
   "id": "dfb94345-fb1b-4bc3-a544-951ac49de3c7",
   "metadata": {
    "tags": []
   },
   "outputs": [],
   "source": [
    "xe_rep1_transformed_sdata = sd.SpatialData(\n",
    "    shapes=xe_rep1_sdata.shapes,\n",
    "    points=xe_rep1_sdata.points,\n",
    "    tables={\"table\": xe_rep1_sdata[\"table\"]},\n",
    ")\n",
    "\n",
    "xe_rep2_transformed_sdata = sd.SpatialData(\n",
    "    shapes=xe_rep2_sdata.shapes,\n",
    "    points=xe_rep2_sdata.points,\n",
    "    tables={\"table\": xe_rep2_sdata[\"table\"]},\n",
    ")\n",
    "\n",
    "visium_transformed_sdata = sd.SpatialData(\n",
    "    shapes=visium_sdata.shapes,\n",
    "    points=visium_sdata.points,\n",
    "    tables={\"table\": visium_sdata[\"table\"]},\n",
    ")\n",
    "\n",
    "xe_rep1_transformed_sdata = xe_rep1_transformed_sdata.transform_to_coordinate_system(\"aligned\")\n",
    "xe_rep2_transformed_sdata = xe_rep2_transformed_sdata.transform_to_coordinate_system(\"aligned\")\n",
    "visium_transformed_sdata = visium_transformed_sdata.transform_to_coordinate_system(\"aligned\")"
   ]
  },
  {
   "cell_type": "markdown",
   "id": "1988f876-4bf3-4b59-a88f-caaf30fc23f3",
   "metadata": {},
   "source": [
    "#### Getting the polygon describing the common area"
   ]
  },
  {
   "cell_type": "code",
   "execution_count": 25,
   "id": "59237ff7-d85c-40f8-8413-5bafb3763a46",
   "metadata": {
    "tags": []
   },
   "outputs": [
    {
     "data": {
      "image/svg+xml": [
       "<svg xmlns=\"http://www.w3.org/2000/svg\" xmlns:xlink=\"http://www.w3.org/1999/xlink\" width=\"300\" height=\"300\" viewBox=\"-1355.8569197161169 6993.105878557837 37019.77407969631 20167.240548875372\" preserveAspectRatio=\"xMinYMin meet\"><g transform=\"matrix(1,0,0,-1,0,34153.45230599105)\"><path fill-rule=\"evenodd\" fill=\"#66cc99\" stroke=\"#555555\" stroke-width=\"246.79849386464207\" opacity=\"0.6\" d=\"M 21.34893437256187,8364.208622250293 L 34292.814416287736,9565.637770390313 L 33729.88869259738,25789.243683740755 L 15.245823976339238,25763.451935741257 L 21.34893437256187,8364.208622250293 z\" /></g></svg>"
      ],
      "text/plain": [
       "<POLYGON ((21.349 8364.209, 34292.814 9565.638, 33729.889 25789.244, 15.246 ...>"
      ]
     },
     "execution_count": 25,
     "metadata": {},
     "output_type": "execute_result"
    }
   ],
   "source": [
    "# we manually draw the polygon that contains the common area between the samples\n",
    "box = landmarks_sdata.shapes[\"box\"]\n",
    "# let's get the Polygon object out of the GeoDataFrame\n",
    "box = box.geometry.iloc[0]\n",
    "box"
   ]
  },
  {
   "cell_type": "markdown",
   "id": "1965e011-e282-4967-8698-bedf75dd8b1a",
   "metadata": {},
   "source": [
    "#### Filtering the data inside the common area"
   ]
  },
  {
   "cell_type": "markdown",
   "id": "2c6f35f3-5560-4eef-940b-5a928ad8654d",
   "metadata": {},
   "source": [
    "The functions below implement spatial queries operations on polygons. These functions will be implemented in SpatialData and the code will become simpler."
   ]
  },
  {
   "cell_type": "code",
   "execution_count": 26,
   "id": "bc01d16c-1001-4148-a70a-cfdeab464ab4",
   "metadata": {
    "tags": []
   },
   "outputs": [],
   "source": [
    "from spatialdata import polygon_query"
   ]
  },
  {
   "cell_type": "code",
   "execution_count": 27,
   "id": "b81e294b-3f35-412f-bf1c-78c1b5b176de",
   "metadata": {
    "tags": []
   },
   "outputs": [
    {
     "name": "stdout",
     "output_type": "stream",
     "text": [
      "CPU times: user 54.2 s, sys: 10.8 s, total: 1min 4s\n",
      "Wall time: 1min 2s\n"
     ]
    }
   ],
   "source": [
    "%%time\n",
    "# let's keep only the shapes inside the query polygon (roi)\n",
    "xe_rep1_roi_sdata = polygon_query(\n",
    "    xe_rep1_transformed_sdata,\n",
    "    polygon=box,\n",
    "    target_coordinate_system=\"aligned\",\n",
    "    filter_table=False,\n",
    ")"
   ]
  },
  {
   "cell_type": "code",
   "execution_count": 28,
   "id": "ebbb82b8-b7ac-4333-94f1-39631b8ec879",
   "metadata": {
    "tags": []
   },
   "outputs": [
    {
     "name": "stdout",
     "output_type": "stream",
     "text": [
      "CPU times: user 48.5 s, sys: 9.46 s, total: 57.9 s\n",
      "Wall time: 54.8 s\n"
     ]
    }
   ],
   "source": [
    "%%time\n",
    "xe_rep2_roi_sdata = polygon_query(\n",
    "    xe_rep2_transformed_sdata,\n",
    "    polygon=box,\n",
    "    target_coordinate_system=\"aligned\",\n",
    "    filter_table=False,\n",
    ")"
   ]
  },
  {
   "cell_type": "code",
   "execution_count": 29,
   "id": "5ed2592d-4042-498b-9b52-4281f14a621a",
   "metadata": {
    "tags": []
   },
   "outputs": [
    {
     "name": "stdout",
     "output_type": "stream",
     "text": [
      "CPU times: user 125 ms, sys: 42.4 ms, total: 168 ms\n",
      "Wall time: 170 ms\n"
     ]
    }
   ],
   "source": [
    "%%time\n",
    "visium_roi_sdata = polygon_query(\n",
    "    visium_transformed_sdata,\n",
    "    polygon=box,\n",
    "    target_coordinate_system=\"aligned\",\n",
    ")"
   ]
  },
  {
   "cell_type": "markdown",
   "id": "4e7b515f-6085-4d82-a8c9-4050722142ce",
   "metadata": {},
   "source": [
    "### Subsetting the objects to the common genes"
   ]
  },
  {
   "cell_type": "code",
   "execution_count": 30,
   "id": "04d95605-c177-4a9d-9abc-70dd177db33d",
   "metadata": {
    "tags": []
   },
   "outputs": [],
   "source": [
    "sel_genes = list(set(visium_roi_sdata[\"table\"].var_names) & (set(xe_rep1_roi_sdata[\"table\"].var_names)))\n",
    "\n",
    "filtered_table = xe_rep1_roi_sdata[\"table\"][:, sel_genes].copy()\n",
    "del xe_rep1_roi_sdata.tables[\"table\"]\n",
    "xe_rep1_roi_sdata[\"table\"] = filtered_table\n",
    "\n",
    "filtered_table = xe_rep2_roi_sdata[\"table\"][:, sel_genes].copy()\n",
    "del xe_rep2_roi_sdata.tables[\"table\"]\n",
    "xe_rep2_roi_sdata[\"table\"] = filtered_table\n",
    "\n",
    "filtered_table = visium_roi_sdata[\"table\"][:, sel_genes].copy()\n",
    "del visium_roi_sdata.tables[\"table\"]\n",
    "visium_roi_sdata[\"table\"] = filtered_table"
   ]
  },
  {
   "cell_type": "markdown",
   "id": "acc9672f-1657-4326-9c06-f20f256c9d8d",
   "metadata": {},
   "source": [
    "## Aggregation of gene expression and cell-types from the Xenium cells into the Visium circles"
   ]
  },
  {
   "cell_type": "markdown",
   "id": "15243689-54bd-4891-bc92-8e79b51365b7",
   "metadata": {},
   "source": [
    "We will now aggregate the gene expression and the cell-type information and the into the Visium circles.\n",
    "\n",
    "To do so, we will consider the polygonal cell description. Currently the table is set to describe the cell circles (as we can see in the next cell). Therefore, let's create another `SpatialData` object that links the table to the polygonal description, and let's use this for aggregation. Let's do this for both replicates.\n",
    "\n",
    "The option `fractions=True` is used to downweigh cases of partial cell overlaps, please refer to the documentation for a detailed explanation."
   ]
  },
  {
   "cell_type": "code",
   "execution_count": 31,
   "id": "9be96419-0d38-421f-a722-854cf2c07179",
   "metadata": {},
   "outputs": [
    {
     "name": "stdout",
     "output_type": "stream",
     "text": [
      "{'instance_key': 'cell_id', 'region': 'cell_circles', 'region_key': 'region'}\n"
     ]
    }
   ],
   "source": [
    "from spatialdata.models import TableModel\n",
    "\n",
    "table_metadata = xe_rep1_roi_sdata[\"table\"].uns[TableModel.ATTRS_KEY]\n",
    "print(table_metadata)\n",
    "\n",
    "# replicate 1\n",
    "new_table = xe_rep1_roi_sdata[\"table\"].copy()\n",
    "del new_table.uns[TableModel.ATTRS_KEY]\n",
    "new_table.obs[\"region\"] = \"cell_boundaries\"\n",
    "new_table.obs[\"region\"] = new_table.obs[\"region\"].astype(\"category\")\n",
    "new_table = TableModel.parse(new_table, region=\"cell_boundaries\", region_key=\"region\", instance_key=\"cell_id\")\n",
    "xe_rep1_roi_sdata_polygons = SpatialData(\n",
    "    shapes={\"cell_boundaries\": xe_rep1_roi_sdata[\"cell_boundaries\"]},\n",
    "    tables={\"table\": new_table},\n",
    ")\n",
    "\n",
    "# replicate 2\n",
    "new_table = xe_rep2_roi_sdata[\"table\"].copy()\n",
    "del new_table.uns[TableModel.ATTRS_KEY]\n",
    "new_table.obs[\"region\"] = \"cell_boundaries\"\n",
    "new_table.obs[\"region\"] = new_table.obs[\"region\"].astype(\"category\")\n",
    "new_table = TableModel.parse(new_table, region=\"cell_boundaries\", region_key=\"region\", instance_key=\"cell_id\")\n",
    "xe_rep2_roi_sdata_polygons = SpatialData(\n",
    "    shapes={\"cell_boundaries\": xe_rep2_roi_sdata[\"cell_boundaries\"]},\n",
    "    tables={\"table\": new_table},\n",
    ")"
   ]
  },
  {
   "cell_type": "markdown",
   "id": "7b9a8cf3-8f6f-4f1d-a97e-f307378314a7",
   "metadata": {},
   "source": [
    "### Aggregating gene expression."
   ]
  },
  {
   "cell_type": "code",
   "execution_count": 32,
   "id": "1777ac7b-3c01-483b-a6ec-b6feee583525",
   "metadata": {},
   "outputs": [
    {
     "name": "stdout",
     "output_type": "stream",
     "text": [
      "CPU times: user 2.56 s, sys: 330 ms, total: 2.89 s\n",
      "Wall time: 2.9 s\n"
     ]
    }
   ],
   "source": [
    "%%time\n",
    "# rep 1\n",
    "agg_expression = aggregate(\n",
    "    values_sdata=xe_rep1_roi_sdata_polygons,\n",
    "    values=\"cell_boundaries\",\n",
    "    by_sdata=visium_roi_sdata,\n",
    "    by=\"CytAssist_FFPE_Human_Breast_Cancer\",\n",
    "    value_key=xe_rep1_roi_sdata[\"table\"].var_names.tolist(),\n",
    "    target_coordinate_system=\"aligned\",\n",
    "    fractions=True,\n",
    ")\n",
    "visium_roi_sdata[\"table\"].layers[\"xe_rep1_cells\"] = agg_expression[\"table\"][:, sel_genes].X.copy()\n",
    "\n",
    "# rep 2\n",
    "agg_expression = aggregate(\n",
    "    values_sdata=xe_rep2_roi_sdata_polygons,\n",
    "    values=\"cell_boundaries\",\n",
    "    by_sdata=visium_roi_sdata,\n",
    "    by=\"CytAssist_FFPE_Human_Breast_Cancer\",\n",
    "    value_key=xe_rep2_roi_sdata[\"table\"].var_names.tolist(),\n",
    "    target_coordinate_system=\"aligned\",\n",
    "    fractions=True,\n",
    ")\n",
    "visium_roi_sdata[\"table\"].layers[\"xe_rep2_cells\"] = agg_expression[\"table\"][:, sel_genes].X.copy()"
   ]
  },
  {
   "cell_type": "markdown",
   "id": "303283bb-3aac-4716-ba50-d4795bce8ca1",
   "metadata": {},
   "source": [
    "### Aggregating cell-types into cell-type fractions"
   ]
  },
  {
   "cell_type": "markdown",
   "id": "317e9d60-1ae0-48d9-9d55-471922da4dfe",
   "metadata": {},
   "source": [
    "#### Major cell-types"
   ]
  },
  {
   "cell_type": "code",
   "execution_count": 33,
   "id": "d5a42829-1d00-4c32-aba1-19560f27913f",
   "metadata": {},
   "outputs": [
    {
     "name": "stdout",
     "output_type": "stream",
     "text": [
      "CPU times: user 2.07 s, sys: 41.5 ms, total: 2.12 s\n",
      "Wall time: 2.12 s\n"
     ]
    }
   ],
   "source": [
    "%%time\n",
    "# rep 1\n",
    "agg_celltype_major = aggregate(\n",
    "    values_sdata=xe_rep1_roi_sdata_polygons,\n",
    "    values=\"cell_boundaries\",\n",
    "    by_sdata=visium_roi_sdata,\n",
    "    by=\"CytAssist_FFPE_Human_Breast_Cancer\",\n",
    "    value_key=\"celltype_major\",\n",
    "    target_coordinate_system=\"aligned\",\n",
    "    fractions=True,\n",
    ")\n",
    "visium_roi_sdata[\"table\"].obsm[\"xe_rep1_celltype_major\"] = agg_celltype_major[\"table\"].X.todense().A\n",
    "\n",
    "# rep 2\n",
    "agg_celltype_major = aggregate(\n",
    "    values_sdata=xe_rep2_roi_sdata_polygons,\n",
    "    values=\"cell_boundaries\",\n",
    "    by_sdata=visium_roi_sdata,\n",
    "    by=\"CytAssist_FFPE_Human_Breast_Cancer\",\n",
    "    value_key=\"celltype_major\",\n",
    "    target_coordinate_system=\"aligned\",\n",
    "    fractions=True,\n",
    ")\n",
    "visium_roi_sdata[\"table\"].obsm[\"xe_rep2_celltype_major\"] = agg_celltype_major[\"table\"].X.todense().A"
   ]
  },
  {
   "cell_type": "markdown",
   "id": "c2190396-5daa-4727-a737-14f4d2340abe",
   "metadata": {},
   "source": [
    "#### Minor cell-types"
   ]
  },
  {
   "cell_type": "code",
   "execution_count": 34,
   "id": "73312a29-f774-40fd-b100-2542f5ce1c0d",
   "metadata": {},
   "outputs": [
    {
     "name": "stdout",
     "output_type": "stream",
     "text": [
      "CPU times: user 2.07 s, sys: 50.9 ms, total: 2.12 s\n",
      "Wall time: 2.12 s\n"
     ]
    }
   ],
   "source": [
    "%%time\n",
    "# rep 1\n",
    "agg_celltype_minor = aggregate(\n",
    "    values_sdata=xe_rep1_roi_sdata_polygons,\n",
    "    values=\"cell_boundaries\",\n",
    "    by_sdata=visium_roi_sdata,\n",
    "    by=\"CytAssist_FFPE_Human_Breast_Cancer\",\n",
    "    value_key=\"celltype_minor\",\n",
    "    target_coordinate_system=\"aligned\",\n",
    "    fractions=True,\n",
    ")\n",
    "visium_roi_sdata[\"table\"].obsm[\"xe_rep1_celltype_minor\"] = agg_celltype_minor[\"table\"].X.todense().A\n",
    "\n",
    "# rep 2\n",
    "agg_celltype_minor = aggregate(\n",
    "    values_sdata=xe_rep2_roi_sdata_polygons,\n",
    "    values=\"cell_boundaries\",\n",
    "    by_sdata=visium_roi_sdata,\n",
    "    by=\"CytAssist_FFPE_Human_Breast_Cancer\",\n",
    "    value_key=\"celltype_minor\",\n",
    "    target_coordinate_system=\"aligned\",\n",
    "    fractions=True,\n",
    ")\n",
    "visium_roi_sdata[\"table\"].obsm[\"xe_rep2_celltype_minor\"] = agg_celltype_minor[\"table\"].X.todense().A"
   ]
  },
  {
   "cell_type": "markdown",
   "id": "d7157d47-51c8-4bc8-b3e8-48e1637033f2",
   "metadata": {},
   "source": [
    "## Aggregation of gene expression from the Xenium single-molecule points into the Visium Circles"
   ]
  },
  {
   "cell_type": "code",
   "execution_count": 35,
   "id": "64452e20-b145-4ccb-83ed-fa102aadf968",
   "metadata": {},
   "outputs": [
    {
     "name": "stdout",
     "output_type": "stream",
     "text": [
      "CPU times: user 15.5 s, sys: 3.02 s, total: 18.5 s\n",
      "Wall time: 18.8 s\n"
     ]
    }
   ],
   "source": [
    "%%time\n",
    "xe_rep1_aggregated = aggregate(\n",
    "    values=xe_rep1_roi_sdata[\"transcripts\"],\n",
    "    by=visium_roi_sdata[\"CytAssist_FFPE_Human_Breast_Cancer\"],\n",
    "    value_key=\"feature_name\",\n",
    "    agg_func=\"count\",\n",
    "    target_coordinate_system=\"aligned\",\n",
    ")"
   ]
  },
  {
   "cell_type": "code",
   "execution_count": 36,
   "id": "fc6b00b9-382b-4903-88af-2544096b1389",
   "metadata": {},
   "outputs": [],
   "source": [
    "counts = xe_rep1_aggregated[\"table\"][:, sel_genes].X.todense().A\n",
    "visium_roi_sdata[\"table\"].layers[\"xe_rep1_tx\"] = counts"
   ]
  },
  {
   "cell_type": "code",
   "execution_count": 37,
   "id": "d878795a-58b0-423b-9ae8-f4e9deadd8e3",
   "metadata": {},
   "outputs": [
    {
     "name": "stdout",
     "output_type": "stream",
     "text": [
      "CPU times: user 15.7 s, sys: 2.85 s, total: 18.5 s\n",
      "Wall time: 18.9 s\n"
     ]
    }
   ],
   "source": [
    "%%time\n",
    "xe_rep2_aggregated = aggregate(\n",
    "    values=xe_rep2_roi_sdata[\"transcripts\"],\n",
    "    by=visium_roi_sdata[\"CytAssist_FFPE_Human_Breast_Cancer\"],\n",
    "    value_key=\"feature_name\",\n",
    "    agg_func=\"count\",\n",
    "    target_coordinate_system=\"aligned\",\n",
    ")"
   ]
  },
  {
   "cell_type": "code",
   "execution_count": 38,
   "id": "e3ffd863-4f39-43b2-9dcb-3657ff741ecc",
   "metadata": {},
   "outputs": [],
   "source": [
    "counts = xe_rep2_aggregated[\"table\"][:, sel_genes].X.todense().A\n",
    "visium_roi_sdata[\"table\"].layers[\"xe_rep2_tx\"] = counts"
   ]
  },
  {
   "cell_type": "markdown",
   "id": "73fc9721-9c69-429a-96cd-5b81b7de7063",
   "metadata": {},
   "source": [
    "## Saving the objects to disk"
   ]
  },
  {
   "cell_type": "markdown",
   "id": "1abe786c-6943-4b83-b199-c763a02cef07",
   "metadata": {},
   "source": [
    "### Saving the SpatialData for the polygonal ROI"
   ]
  },
  {
   "cell_type": "code",
   "execution_count": 39,
   "id": "24a629bc-7c6c-442c-9eef-3577f7565c88",
   "metadata": {
    "tags": []
   },
   "outputs": [
    {
     "data": {
      "text/plain": [
       "SpatialData object\n",
       "├── Points\n",
       "│     └── 'transcripts': DataFrame with shape: (<Delayed>, 8) (3D points)\n",
       "├── Shapes\n",
       "│     ├── 'cell_boundaries': GeoDataFrame shape: (100849, 1) (2D shapes)\n",
       "│     └── 'cell_circles': GeoDataFrame shape: (100801, 2) (2D shapes)\n",
       "└── Tables\n",
       "      └── 'table': AnnData (167780, 307)\n",
       "with coordinate systems:\n",
       "    ▸ 'aligned', with elements:\n",
       "        transcripts (Points), cell_boundaries (Shapes), cell_circles (Shapes)"
      ]
     },
     "execution_count": 39,
     "metadata": {},
     "output_type": "execute_result"
    }
   ],
   "source": [
    "xe_rep1_roi_sdata"
   ]
  },
  {
   "cell_type": "code",
   "execution_count": 40,
   "id": "04a42588-4f53-4c36-a152-2a0980eab5ce",
   "metadata": {
    "tags": []
   },
   "outputs": [
    {
     "data": {
      "text/plain": [
       "SpatialData object\n",
       "├── Points\n",
       "│     └── 'transcripts': DataFrame with shape: (<Delayed>, 8) (3D points)\n",
       "├── Shapes\n",
       "│     ├── 'cell_boundaries': GeoDataFrame shape: (99923, 1) (2D shapes)\n",
       "│     ├── 'cell_circles': GeoDataFrame shape: (99901, 2) (2D shapes)\n",
       "│     └── 'nucleus_boundaries': GeoDataFrame shape: (99761, 1) (2D shapes)\n",
       "└── Tables\n",
       "      └── 'table': AnnData (118752, 307)\n",
       "with coordinate systems:\n",
       "    ▸ 'aligned', with elements:\n",
       "        transcripts (Points), cell_boundaries (Shapes), cell_circles (Shapes), nucleus_boundaries (Shapes)"
      ]
     },
     "execution_count": 40,
     "metadata": {},
     "output_type": "execute_result"
    }
   ],
   "source": [
    "xe_rep2_roi_sdata"
   ]
  },
  {
   "cell_type": "code",
   "execution_count": 41,
   "id": "b028abfc-6732-4ef4-afb6-5cf4e675812f",
   "metadata": {
    "tags": []
   },
   "outputs": [
    {
     "data": {
      "text/plain": [
       "SpatialData object\n",
       "├── Shapes\n",
       "│     └── 'CytAssist_FFPE_Human_Breast_Cancer': GeoDataFrame shape: (2826, 2) (2D shapes)\n",
       "└── Tables\n",
       "      └── 'table': AnnData (2826, 307)\n",
       "with coordinate systems:\n",
       "    ▸ 'aligned', with elements:\n",
       "        CytAssist_FFPE_Human_Breast_Cancer (Shapes)"
      ]
     },
     "execution_count": 41,
     "metadata": {},
     "output_type": "execute_result"
    }
   ],
   "source": [
    "visium_roi_sdata"
   ]
  },
  {
   "cell_type": "code",
   "execution_count": 42,
   "id": "c1d66959-8879-4530-8aa3-cb43bece9011",
   "metadata": {},
   "outputs": [],
   "source": [
    "xe_rep1_roi_sdata[\"transcripts\"][\"feature_name\"] = xe_rep1_roi_sdata[\"transcripts\"][\"feature_name\"].cat.as_known()\n",
    "xe_rep2_roi_sdata[\"transcripts\"][\"feature_name\"] = xe_rep2_roi_sdata[\"transcripts\"][\"feature_name\"].cat.as_known()"
   ]
  },
  {
   "cell_type": "code",
   "execution_count": 43,
   "id": "6e1fe4d7-2331-414d-9d7a-b561d660371c",
   "metadata": {
    "tags": []
   },
   "outputs": [
    {
     "name": "stdout",
     "output_type": "stream",
     "text": [
      "\u001b[34mINFO    \u001b[0m The Zarr backing store has been changed from \u001b[3;35mNone\u001b[0m the new file path:                                      \n",
      "         spatialdata-sandbox/generated_data/xenium_visium_integration/xe_rep1_roi.zarr                             \n",
      "\u001b[34mINFO    \u001b[0m The Zarr backing store has been changed from \u001b[3;35mNone\u001b[0m the new file path:                                      \n",
      "         spatialdata-sandbox/generated_data/xenium_visium_integration/xe_rep2_roi.zarr                             \n",
      "\u001b[34mINFO    \u001b[0m The Zarr backing store has been changed from \u001b[3;35mNone\u001b[0m the new file path:                                      \n",
      "         spatialdata-sandbox/generated_data/xenium_visium_integration/visium_roi.zarr                              \n",
      "CPU times: user 7.88 s, sys: 1.61 s, total: 9.49 s\n",
      "Wall time: 9.76 s\n"
     ]
    }
   ],
   "source": [
    "%%time\n",
    "\n",
    "if os.path.isdir(XE_REP1_ROI_PATH):\n",
    "    shutil.rmtree(XE_REP1_ROI_PATH)\n",
    "xe_rep1_roi_sdata.write(XE_REP1_ROI_PATH)\n",
    "\n",
    "if os.path.isdir(XE_REP2_ROI_PATH):\n",
    "    shutil.rmtree(XE_REP2_ROI_PATH)\n",
    "xe_rep2_roi_sdata.write(XE_REP2_ROI_PATH)\n",
    "\n",
    "if os.path.isdir(VISIUM_ROI_PATH):\n",
    "    shutil.rmtree(VISIUM_ROI_PATH)\n",
    "visium_roi_sdata.write(VISIUM_ROI_PATH)"
   ]
  },
  {
   "cell_type": "markdown",
   "id": "ee9fb66f-28f3-486a-bc4e-c7c21e6794c4",
   "metadata": {},
   "source": [
    "### Saving elements in the SpatialData object on disk"
   ]
  },
  {
   "cell_type": "markdown",
   "id": "a4db5b1d-c775-49a2-978e-a3cb6d40e3f2",
   "metadata": {},
   "source": [
    "We have new \"incremental IO\" APIs in the `spatialdata` library. The following cells show how to use the new incremental IO APIs. These APIs allow to store elements in the SpatialData zarr store in a fashion that does not require you delete the whole zarr store and create a new one. Instead elements can be deleted and written directly in the zarr store. Below we show the safest way for \"overwriting\" an element in a SpatialData zarr store."
   ]
  },
  {
   "cell_type": "code",
   "execution_count": 44,
   "id": "51f10a59badcc47",
   "metadata": {},
   "outputs": [],
   "source": [
    "# save transformations to disk (it was only in-memory so far)\n",
    "\n",
    "xe_rep1_sdata.write_transformations()\n",
    "xe_rep2_sdata.write_transformations()\n",
    "visium_sdata.write_transformations()"
   ]
  },
  {
   "cell_type": "markdown",
   "id": "eb8359a6-29c1-40c7-9c94-f9435c8180f2",
   "metadata": {},
   "source": [
    "The table of the xenium data was modified only in-memory, let's sync the change to disk"
   ]
  },
  {
   "cell_type": "code",
   "execution_count": 45,
   "id": "453c31e2d032e4fd",
   "metadata": {},
   "outputs": [],
   "source": [
    "# importantly, the pattern below is used to avoid the risk of losing the original table is this cell is killed while rewriting the original one\n",
    "# this approach works for this notebook, but it other contexts, like with network storages or multithread environment, it may not prevent data\n",
    "# corruption. As a user, it is important to take this factors into consideration and implement a strategy to minimize the risk of data loss.\n",
    "\n",
    "\n",
    "def replace_table(sdata):\n",
    "    # copy the table to a backup table\n",
    "    sdata[\"backup_table\"] = sdata[\"table\"]\n",
    "    sdata.write_element(\"backup_table\")\n",
    "\n",
    "    # rewrite the original one\n",
    "    sdata.delete_element_from_disk(\"table\")\n",
    "    sdata.write_element(\"table\")\n",
    "\n",
    "    # remove the backup copy\n",
    "    sdata.delete_element_from_disk(\"backup_table\")\n",
    "    del sdata.tables[\"backup_table\"]"
   ]
  },
  {
   "cell_type": "code",
   "execution_count": 46,
   "id": "88cfda97a2183b0b",
   "metadata": {},
   "outputs": [],
   "source": [
    "replace_table(xe_rep1_sdata)"
   ]
  },
  {
   "cell_type": "code",
   "execution_count": 47,
   "id": "24481dce2527d2bf",
   "metadata": {},
   "outputs": [],
   "source": [
    "replace_table(xe_rep2_sdata)"
   ]
  },
  {
   "cell_type": "code",
   "execution_count": 48,
   "id": "9a97dc4614140851",
   "metadata": {},
   "outputs": [],
   "source": [
    "replace_table(visium_sdata)"
   ]
  },
  {
   "cell_type": "markdown",
   "id": "5e0656b8-31d3-4436-85a6-b3913aa4aee6",
   "metadata": {},
   "source": [
    "The full dataset is rewritten below under the section \"Internal code\", which is primarily used for automatic testing purposes."
   ]
  },
  {
   "cell_type": "markdown",
   "id": "ea93f6e2-814a-4ba8-a81a-fc07538f7222",
   "metadata": {},
   "source": [
    "### Internal code"
   ]
  },
  {
   "cell_type": "markdown",
   "id": "ed3e3fbd-20da-4e68-bf4b-27530a79675d",
   "metadata": {},
   "source": [
    "For interal pipelines used during development, we also copy the produced data into a new location."
   ]
  },
  {
   "cell_type": "code",
   "execution_count": 49,
   "id": "2db2e071-6fa6-4593-835a-fa1a8ee348c8",
   "metadata": {
    "tags": []
   },
   "outputs": [],
   "source": [
    "XE_REP1_ALIGNED_PATH = XE_REP1_PATH.replace(\"data.zarr\", \"data_aligned.zarr\")\n",
    "XE_REP2_ALIGNED_PATH = XE_REP2_PATH.replace(\"data.zarr\", \"data_aligned.zarr\")\n",
    "VISIUM_ALIGNED_PATH = VISIUM_PATH.replace(\"data.zarr\", \"data_aligned.zarr\")"
   ]
  },
  {
   "cell_type": "code",
   "execution_count": 50,
   "id": "9a2f9ce3-03d3-4235-9c52-cc89f1a60c3a",
   "metadata": {
    "tags": []
   },
   "outputs": [
    {
     "data": {
      "text/plain": [
       "'spatialdata-sandbox/visium_associated_xenium_io/data_aligned.zarr'"
      ]
     },
     "execution_count": 50,
     "metadata": {},
     "output_type": "execute_result"
    }
   ],
   "source": [
    "# to restore when interactive IO is enabled again\n",
    "if os.path.isdir(XE_REP1_ALIGNED_PATH):\n",
    "    shutil.rmtree(XE_REP1_ALIGNED_PATH)\n",
    "shutil.copytree(XE_REP1_PATH, XE_REP1_ALIGNED_PATH)\n",
    "\n",
    "if os.path.isdir(XE_REP2_ALIGNED_PATH):\n",
    "    shutil.rmtree(XE_REP2_ALIGNED_PATH)\n",
    "shutil.copytree(XE_REP2_PATH, XE_REP2_ALIGNED_PATH)\n",
    "\n",
    "if os.path.isdir(VISIUM_ALIGNED_PATH):\n",
    "    shutil.rmtree(VISIUM_ALIGNED_PATH)\n",
    "shutil.copytree(VISIUM_PATH, VISIUM_ALIGNED_PATH)"
   ]
  },
  {
   "cell_type": "raw",
   "id": "70a7f3b6-97c1-403a-96f8-ae1a3d84cb7a",
   "metadata": {},
   "source": [
    "from napari_spatialdata import Interactive\n",
    "\n",
    "Interactive([xe_rep1_sdata, xe_rep2_sdata, visium_sdata, landmarks_sdata])\n",
    "Interactive(\n",
    "    [xe_rep1_roi_sdata, xe_rep2_roi_sdata, visium_roi_sdata, landmarks_sdata],\n",
    ")"
   ]
  }
 ],
 "metadata": {
  "kernelspec": {
   "display_name": "Python 3 (ipykernel)",
   "language": "python",
   "name": "python3"
  },
  "language_info": {
   "codemirror_mode": {
    "name": "ipython",
    "version": 3
   },
   "file_extension": ".py",
   "mimetype": "text/x-python",
   "name": "python",
   "nbconvert_exporter": "python",
   "pygments_lexer": "ipython3",
   "version": "3.11.0"
  }
 },
 "nbformat": 4,
 "nbformat_minor": 5
}
