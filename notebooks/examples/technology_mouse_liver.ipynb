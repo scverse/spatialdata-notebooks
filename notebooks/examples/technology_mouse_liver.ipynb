{
 "cells": [
  {
   "cell_type": "markdown",
   "id": "3f0d9a71-f240-4689-a6be-ef0b9f065c69",
   "metadata": {},
   "source": [
    "# Technology focus: Xenium"
   ]
  },
  {
   "cell_type": "markdown",
   "id": "dc267842-b304-4616-9fb7-70dd05c6c4cb",
   "metadata": {},
   "source": [
    "This notebook will present an overview of the plotting functionalities of the `spatialdata` framework, in the context of a Xenium dataset.\n",
    "\n",
    "Other notebooks, focused on data manipualtion, are also available for Xenium data:\n",
    "- Alignment of a Xenium and Visium datasets (this is one of the reproducibility notebooks for the analysis of our paper) [notebook](https://github.com/scverse/spatialdata-notebooks/blob/main/notebooks/paper_reproducibility/00_xenium_and_visium.ipynb)\n",
    "- Workflow showing saving annotations in Xenium Explorer and accessing them in SpaitalData, and viceversa [notebook](https://github.com/quentinblampey/spatialdata_xenium_explorer/blob/master/docs/10x_tutorials/xenium/xenium_tuto.ipynb). Tutorial from Quentin Blampey."
   ]
  },
  {
   "cell_type": "code",
   "execution_count": 1,
   "id": "4c059777-0354-4ed7-a848-14e442ca34af",
   "metadata": {},
   "outputs": [],
   "source": [
    "%load_ext jupyter_black\n",
    "%load_ext autoreload\n",
    "%autoreload 2"
   ]
  },
  {
   "cell_type": "markdown",
   "id": "0ef07784-a866-481b-a484-beeb19a034d1",
   "metadata": {},
   "source": [
    "## Loading the data"
   ]
  },
  {
   "cell_type": "markdown",
   "id": "5c52d4d2-3c7a-4586-9946-cbe5dd83c9f8",
   "metadata": {},
   "source": [
    "A reader for Xenium data is available in `spatialdata-io`. We used it to parse and convert to Zarr a [Xenium dataset of Human Lung Cancer](https://www.10xgenomics.com/datasets/preview-data-ffpe-human-lung-cancer-with-xenium-multimodal-cell-segmentation-1-standard).\n",
    "\n",
    "You can download the data from the link above, or from this [convenience python script](https://github.com/giovp/spatialdata-sandbox/blob/main/xenium_2.0.0_io/download.py) and convert it to spatialdata format with [this script](https://github.com/giovp/spatialdata-sandbox/blob/main/xenium_2.0.0_io/to_zarr.py), rename the `.zarr` store to `xenium.zarr` and place it in the current folder (in alternatively you can use symlinks to make the data visible).\n",
    "\n",
    "The dataset used in this notebook is the latest Xenium Multimodal Cell Segmentation extension of the Xenium technology, available for data processed using Xenium Analyzer version 2.0.0 and when Cell Segmentation Kit was used. Nevertheless, the `xenium()` reader supports all the Xenium versions."
   ]
  },
  {
   "cell_type": "code",
   "execution_count": 2,
   "id": "3f1bd970-13dc-444b-ae61-6d9bf844de4b",
   "metadata": {},
   "outputs": [],
   "source": [
    "mouse_liver_path = \"/Users/selman/projects/squidpy/docs/notebooks/examples/preprocessing/ignoreme_mouse_liver.zarr\""
   ]
  },
  {
   "cell_type": "code",
   "execution_count": 24,
   "id": "af93b905-28fb-4167-b765-059c148ca3bc",
   "metadata": {},
   "outputs": [
    {
     "name": "stdout",
     "output_type": "stream",
     "text": [
      "CPU times: user 35.3 ms, sys: 11.8 ms, total: 47.2 ms\n",
      "Wall time: 88.4 ms\n"
     ]
    },
    {
     "name": "stderr",
     "output_type": "stream",
     "text": [
      "/Users/selman/miniforge3/envs/squidpy/lib/python3.11/site-packages/zarr/creation.py:610: UserWarning: ignoring keyword argument 'read_only'\n",
      "  compressor, fill_value = _kwargs_compat(compressor, fill_value, kwargs)\n"
     ]
    },
    {
     "data": {
      "text/plain": [
       "SpatialData object, with associated Zarr store: /Users/selman/projects/squidpy/docs/notebooks/examples/preprocessing/ignoreme_mouse_liver.zarr\n",
       "├── Images\n",
       "│     └── 'raw_image': DataTree[cyx] (1, 6432, 6432), (1, 1608, 1608)\n",
       "├── Labels\n",
       "│     └── 'segmentation_mask': DataArray[yx] (6432, 6432)\n",
       "├── Points\n",
       "│     └── 'transcripts': DataFrame with shape: (<Delayed>, 3) (2D points)\n",
       "├── Shapes\n",
       "│     └── 'nucleus_boundaries': GeoDataFrame shape: (3375, 1) (2D shapes)\n",
       "└── Tables\n",
       "      └── 'table': AnnData (3375, 99)\n",
       "with coordinate systems:\n",
       "    ▸ 'global', with elements:\n",
       "        raw_image (Images), segmentation_mask (Labels), transcripts (Points), nucleus_boundaries (Shapes)"
      ]
     },
     "execution_count": 24,
     "metadata": {},
     "output_type": "execute_result"
    }
   ],
   "source": [
    "%%time\n",
    "import spatialdata as sd\n",
    "import spatialdata_plot  # noqa: F401\n",
    "\n",
    "sdata = sd.read_zarr(mouse_liver_path)\n",
    "sdata"
   ]
  },
  {
   "cell_type": "code",
   "execution_count": 28,
   "id": "6c35570f",
   "metadata": {},
   "outputs": [
    {
     "data": {
      "text/plain": [
       "(Dask DataFrame Structure:\n",
       "                      x        y               gene\n",
       " npartitions=1                                     \n",
       "                float64  float64  category[unknown]\n",
       "                    ...      ...                ...\n",
       " Dask Name: read-parquet, 1 graph layer,\n",
       "                                                   geometry\n",
       " cell_ID                                                   \n",
       " 99       POLYGON ((6277 798, 6277 799, 6272 799, 6272 8...\n",
       " 142      POLYGON ((6427 6123, 6423 6123, 6423 6124, 641...\n",
       " 208      POLYGON ((3747 858, 3747 859, 3746 859, 3746 8...\n",
       " 235      POLYGON ((752 6144, 752 6145, 763 6145, 763 61...\n",
       " 336      POLYGON ((5174 935, 5174 936, 5172 936, 5172 9...\n",
       " ...                                                    ...\n",
       " 7652     POLYGON ((1094 6028, 1094 6029, 1091 6029, 109...\n",
       " 7680     POLYGON ((1324 6063, 1324 6064, 1320 6064, 132...\n",
       " 7694     POLYGON ((1692 6063, 1692 6064, 1686 6064, 168...\n",
       " 7708     POLYGON ((768 6072, 768 6073, 765 6073, 765 60...\n",
       " 7723     POLYGON ((374 6074, 374 6076, 373 6076, 373 60...\n",
       " \n",
       " [3375 rows x 1 columns])"
      ]
     },
     "execution_count": 28,
     "metadata": {},
     "output_type": "execute_result"
    }
   ],
   "source": [
    "sdata[\"transcripts\"], sdata[\"nucleus_boundaries\"]"
   ]
  },
  {
   "cell_type": "code",
   "execution_count": 29,
   "id": "29f38e73",
   "metadata": {},
   "outputs": [],
   "source": [
    "points_gdf = points_dask_dataframe_to_geopandas(sdata.points[\"transcripts\"])"
   ]
  },
  {
   "cell_type": "code",
   "execution_count": 30,
   "id": "c1137b2d",
   "metadata": {},
   "outputs": [
    {
     "data": {
      "text/html": [
       "<div>\n",
       "<style scoped>\n",
       "    .dataframe tbody tr th:only-of-type {\n",
       "        vertical-align: middle;\n",
       "    }\n",
       "\n",
       "    .dataframe tbody tr th {\n",
       "        vertical-align: top;\n",
       "    }\n",
       "\n",
       "    .dataframe thead th {\n",
       "        text-align: right;\n",
       "    }\n",
       "</style>\n",
       "<table border=\"1\" class=\"dataframe\">\n",
       "  <thead>\n",
       "    <tr style=\"text-align: right;\">\n",
       "      <th></th>\n",
       "      <th>gene</th>\n",
       "      <th>geometry</th>\n",
       "    </tr>\n",
       "  </thead>\n",
       "  <tbody>\n",
       "    <tr>\n",
       "      <th>0</th>\n",
       "      <td>Adgre1</td>\n",
       "      <td>POINT (433 1217)</td>\n",
       "    </tr>\n",
       "    <tr>\n",
       "      <th>1</th>\n",
       "      <td>Adgre1</td>\n",
       "      <td>POINT (151 1841)</td>\n",
       "    </tr>\n",
       "    <tr>\n",
       "      <th>2</th>\n",
       "      <td>Adgre1</td>\n",
       "      <td>POINT (139 1983)</td>\n",
       "    </tr>\n",
       "    <tr>\n",
       "      <th>3</th>\n",
       "      <td>Adgre1</td>\n",
       "      <td>POINT (1349 1601)</td>\n",
       "    </tr>\n",
       "    <tr>\n",
       "      <th>4</th>\n",
       "      <td>Adgre1</td>\n",
       "      <td>POINT (784 1732)</td>\n",
       "    </tr>\n",
       "    <tr>\n",
       "      <th>...</th>\n",
       "      <td>...</td>\n",
       "      <td>...</td>\n",
       "    </tr>\n",
       "    <tr>\n",
       "      <th>1153543</th>\n",
       "      <td>Lyve1</td>\n",
       "      <td>POINT (5743 5233)</td>\n",
       "    </tr>\n",
       "    <tr>\n",
       "      <th>1153544</th>\n",
       "      <td>Lyve1</td>\n",
       "      <td>POINT (5721 4581)</td>\n",
       "    </tr>\n",
       "    <tr>\n",
       "      <th>1153545</th>\n",
       "      <td>Lyve1</td>\n",
       "      <td>POINT (5807 4842)</td>\n",
       "    </tr>\n",
       "    <tr>\n",
       "      <th>1153546</th>\n",
       "      <td>Lyve1</td>\n",
       "      <td>POINT (5843 5309)</td>\n",
       "    </tr>\n",
       "    <tr>\n",
       "      <th>1153547</th>\n",
       "      <td>Lyve1</td>\n",
       "      <td>POINT (5580 5226)</td>\n",
       "    </tr>\n",
       "  </tbody>\n",
       "</table>\n",
       "<p>1153548 rows × 2 columns</p>\n",
       "</div>"
      ],
      "text/plain": [
       "           gene           geometry\n",
       "0        Adgre1   POINT (433 1217)\n",
       "1        Adgre1   POINT (151 1841)\n",
       "2        Adgre1   POINT (139 1983)\n",
       "3        Adgre1  POINT (1349 1601)\n",
       "4        Adgre1   POINT (784 1732)\n",
       "...         ...                ...\n",
       "1153543   Lyve1  POINT (5743 5233)\n",
       "1153544   Lyve1  POINT (5721 4581)\n",
       "1153545   Lyve1  POINT (5807 4842)\n",
       "1153546   Lyve1  POINT (5843 5309)\n",
       "1153547   Lyve1  POINT (5580 5226)\n",
       "\n",
       "[1153548 rows x 2 columns]"
      ]
     },
     "execution_count": 30,
     "metadata": {},
     "output_type": "execute_result"
    }
   ],
   "source": [
    "points_gdf"
   ]
  },
  {
   "cell_type": "code",
   "execution_count": 33,
   "id": "911a129e",
   "metadata": {},
   "outputs": [],
   "source": [
    "import spatialdata as sd\n",
    "from spatialdata import SpatialData\n",
    "from spatialdata.models._utils import (\n",
    "    points_dask_dataframe_to_geopandas,\n",
    "    points_geopandas_to_dask_dataframe,\n",
    ")\n",
    "\n",
    "\n",
    "def add_shape_membership_to_points(\n",
    "    sdata: SpatialData,\n",
    "    points_key: str = \"transcripts\",\n",
    "    shapes_key: str = \"nucleus_boundaries\",\n",
    "    shape_id_column: str = \"cell_id\",\n",
    "    background_value: int = -1,\n",
    ") -> SpatialData:\n",
    "    \"\"\"\n",
    "    Add a column to the points table that indicates the shape membership of each point.\n",
    "    \"\"\"\n",
    "    points = sdata.points[points_key]\n",
    "    shapes_gdf = sdata.shapes[shapes_key]\n",
    "    points_gdf = points_dask_dataframe_to_geopandas(points)\n",
    "    res = points_gdf.sjoin(shapes_gdf, how=\"left\", predicate=\"within\")\n",
    "    sdata.points[points_key] = points_geopandas_to_dask_dataframe(res)\n",
    "\n",
    "    # res = res.drop(columns=[\"index_right\"])\n",
    "    # res = res.rename(columns={shape_id_column: \"shape_id\"})\n",
    "    # res = res.fillna(background_value)\n",
    "    # return res"
   ]
  },
  {
   "cell_type": "code",
   "execution_count": 34,
   "id": "c3b8d354",
   "metadata": {},
   "outputs": [
    {
     "name": "stderr",
     "output_type": "stream",
     "text": [
      "/Users/selman/projects/spatialdata/src/spatialdata/_core/_elements.py:118: UserWarning: Key `transcripts` already exists. Overwriting it in-memory.\n",
      "  self._check_key(key, self.keys(), self._shared_keys)\n"
     ]
    }
   ],
   "source": [
    "a = add_shape_membership_to_points(sdata)"
   ]
  },
  {
   "cell_type": "code",
   "execution_count": 35,
   "id": "4255acac",
   "metadata": {},
   "outputs": [
    {
     "data": {
      "text/html": [
       "<div><strong>Dask DataFrame Structure:</strong></div>\n",
       "<div>\n",
       "<style scoped>\n",
       "    .dataframe tbody tr th:only-of-type {\n",
       "        vertical-align: middle;\n",
       "    }\n",
       "\n",
       "    .dataframe tbody tr th {\n",
       "        vertical-align: top;\n",
       "    }\n",
       "\n",
       "    .dataframe thead th {\n",
       "        text-align: right;\n",
       "    }\n",
       "</style>\n",
       "<table border=\"1\" class=\"dataframe\">\n",
       "  <thead>\n",
       "    <tr style=\"text-align: right;\">\n",
       "      <th></th>\n",
       "      <th>x</th>\n",
       "      <th>y</th>\n",
       "      <th>gene</th>\n",
       "      <th>cell_ID</th>\n",
       "    </tr>\n",
       "    <tr>\n",
       "      <th>npartitions=1</th>\n",
       "      <th></th>\n",
       "      <th></th>\n",
       "      <th></th>\n",
       "      <th></th>\n",
       "    </tr>\n",
       "  </thead>\n",
       "  <tbody>\n",
       "    <tr>\n",
       "      <th>0</th>\n",
       "      <td>float64</td>\n",
       "      <td>float64</td>\n",
       "      <td>category[known]</td>\n",
       "      <td>string</td>\n",
       "    </tr>\n",
       "    <tr>\n",
       "      <th>1153547</th>\n",
       "      <td>...</td>\n",
       "      <td>...</td>\n",
       "      <td>...</td>\n",
       "      <td>...</td>\n",
       "    </tr>\n",
       "  </tbody>\n",
       "</table>\n",
       "</div>\n",
       "<div>Dask Name: getitem, 14 graph layers</div>"
      ],
      "text/plain": [
       "Dask DataFrame Structure:\n",
       "                     x        y             gene cell_ID\n",
       "npartitions=1                                           \n",
       "0              float64  float64  category[known]  string\n",
       "1153547            ...      ...              ...     ...\n",
       "Dask Name: getitem, 14 graph layers"
      ]
     },
     "execution_count": 35,
     "metadata": {},
     "output_type": "execute_result"
    }
   ],
   "source": [
    "sdata[\"transcripts\"]"
   ]
  },
  {
   "cell_type": "code",
   "execution_count": 39,
   "id": "0c78e629",
   "metadata": {},
   "outputs": [
    {
     "name": "stderr",
     "output_type": "stream",
     "text": [
      "/Users/selman/miniforge3/envs/squidpy/lib/python3.11/site-packages/anndata/_core/anndata.py:381: FutureWarning: The dtype argument is deprecated and will be removed in late 2024.\n",
      "  warnings.warn(\n",
      "/Users/selman/miniforge3/envs/squidpy/lib/python3.11/site-packages/anndata/_core/aligned_df.py:68: ImplicitModificationWarning: Transforming to str index.\n",
      "  warnings.warn(\"Transforming to str index.\", ImplicitModificationWarning)\n",
      "/Users/selman/projects/spatialdata/src/spatialdata/_core/_elements.py:118: UserWarning: Key `transcripts` already exists. Overwriting it in-memory.\n",
      "  self._check_key(key, self.keys(), self._shared_keys)\n"
     ]
    },
    {
     "name": "stdout",
     "output_type": "stream",
     "text": [
      "\u001b[34mINFO    \u001b[0m Using \u001b[32m'datashader'\u001b[0m backend with \u001b[32m'None'\u001b[0m as reduction method to speed up plotting. Depending on the         \n",
      "         reduction method, the value range of the plot might change. Set method to \u001b[32m'matplotlib'\u001b[0m do disable this    \n",
      "         behaviour.                                                                                                \n"
     ]
    },
    {
     "data": {
      "image/png": "[encoded data removed]",
      "text/plain": [
       "<Figure size 640x480 with 1 Axes>"
      ]
     },
     "metadata": {},
     "output_type": "display_data"
    }
   ],
   "source": [
    "sdata.pl.render_points().pl.render_shapes().pl.show()"
   ]
  },
  {
   "cell_type": "code",
   "execution_count": null,
   "id": "e0bcc156",
   "metadata": {},
   "outputs": [],
   "source": []
  }
 ],
 "metadata": {
  "kernelspec": {
   "display_name": "squidpy",
   "language": "python",
   "name": "python3"
  },
  "language_info": {
   "codemirror_mode": {
    "name": "ipython",
    "version": 3
   },
   "file_extension": ".py",
   "mimetype": "text/x-python",
   "name": "python",
   "nbconvert_exporter": "python",
   "pygments_lexer": "ipython3",
   "version": "3.11.11"
  }
 },
 "nbformat": 4,
 "nbformat_minor": 5
}
