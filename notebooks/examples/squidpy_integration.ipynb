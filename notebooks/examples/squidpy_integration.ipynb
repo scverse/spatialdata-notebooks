{
 "cells": [
  {
   "cell_type": "markdown",
   "metadata": {
    "tags": []
   },
   "source": [
    "# Squidpy integration\n",
    "\n",
    "In this notebook, we will describe some usage principles for using SpatialData with squidpy.\n",
    "\n",
    "Let's first import some useful libraries and read in a spatialdata dataset.\n",
    "\n",
    "You might have to install squidpy with `!pip install squidpy`."
   ]
  },
  {
   "cell_type": "code",
   "execution_count": 1,
   "metadata": {},
   "outputs": [
    {
     "name": "stderr",
     "output_type": "stream",
     "text": [
      "/opt/miniconda3/envs/ome/lib/python3.11/site-packages/dask/dataframe/__init__.py:31: FutureWarning: The legacy Dask DataFrame implementation is deprecated and will be removed in a future version. Set the configuration option `dataframe.query-planning` to `True` or None to enable the new Dask Dataframe implementation and silence this warning.\n",
      "  warnings.warn(\n",
      "/opt/miniconda3/envs/ome/lib/python3.11/site-packages/xarray_schema/__init__.py:1: UserWarning: pkg_resources is deprecated as an API. See https://setuptools.pypa.io/en/latest/pkg_resources.html. The pkg_resources package is slated for removal as early as 2025-11-30. Refrain from using this package or pin to Setuptools<81.\n",
      "  from pkg_resources import DistributionNotFound, get_distribution\n",
      "/opt/miniconda3/envs/ome/lib/python3.11/site-packages/anndata/__init__.py:44: FutureWarning: Importing read_text from `anndata` is deprecated. Import anndata.io.read_text instead.\n",
      "  return module_get_attr_redirect(attr_name, deprecated_mapping=_DEPRECATED)\n"
     ]
    }
   ],
   "source": [
    "import scanpy as sc\n",
    "import spatialdata as sd\n",
    "import squidpy as sq\n",
    "import spatialdata_plot  # noqa: F401"
   ]
  },
  {
   "cell_type": "markdown",
   "metadata": {},
   "source": [
    "We chosed a Xenium dataset formatted in the spatialdata format. \n",
    "You can download the data from here: [Xenium dataset](https://s3.embl.de/spatialdata/spatialdata-sandbox/xenium_rep1_io.zip). Please rename the file to `xenium.zarr` and place it in the same folder as this notebook (or use symlinks to make the data accessible)."
   ]
  },
  {
   "cell_type": "code",
   "execution_count": 2,
   "metadata": {},
   "outputs": [
    {
     "name": "stderr",
     "output_type": "stream",
     "text": [
      "version mismatch: detected: RasterFormatV02, requested: FormatV04\n",
      "/opt/miniconda3/envs/ome/lib/python3.11/site-packages/zarr/creation.py:610: UserWarning: ignoring keyword argument 'read_only'\n",
      "  compressor, fill_value = _kwargs_compat(compressor, fill_value, kwargs)\n",
      "version mismatch: detected: RasterFormatV02, requested: FormatV04\n"
     ]
    },
    {
     "data": {
      "text/plain": [
       "SpatialData object, with associated Zarr store: /Users/macbook/embl/projects/basel/spatialdata-data-converter/dependencies/spatialdata-sandbox/xenium_rep1_io/data.zarr\n",
       "├── Images\n",
       "│     ├── 'morphology_focus': DataTree[cyx] (1, 25778, 35416), (1, 12889, 17708), (1, 6444, 8854), (1, 3222, 4427), (1, 1611, 2213)\n",
       "│     └── 'morphology_mip': DataTree[cyx] (1, 25778, 35416), (1, 12889, 17708), (1, 6444, 8854), (1, 3222, 4427), (1, 1611, 2213)\n",
       "├── Points\n",
       "│     └── 'transcripts': DataFrame with shape: (<Delayed>, 8) (3D points)\n",
       "├── Shapes\n",
       "│     ├── 'cell_boundaries': GeoDataFrame shape: (167780, 1) (2D shapes)\n",
       "│     ├── 'cell_circles': GeoDataFrame shape: (167780, 2) (2D shapes)\n",
       "│     └── 'xenium_landmarks': GeoDataFrame shape: (3, 2) (2D shapes)\n",
       "└── Tables\n",
       "      └── 'table': AnnData (167780, 313)\n",
       "with coordinate systems:\n",
       "    ▸ 'aligned', with elements:\n",
       "        morphology_focus (Images)\n",
       "    ▸ 'global', with elements:\n",
       "        morphology_focus (Images), morphology_mip (Images), transcripts (Points), cell_boundaries (Shapes), cell_circles (Shapes), xenium_landmarks (Shapes)"
      ]
     },
     "execution_count": 2,
     "metadata": {},
     "output_type": "execute_result"
    }
   ],
   "source": [
    "sdata = sd.read_zarr(\"xenium.zarr\")\n",
    "sdata"
   ]
  },
  {
   "cell_type": "markdown",
   "metadata": {},
   "source": [
    "SpatialData has a more complex structure than the (legacy) spatial `AnnData` format introduced by `squidpy`. Nevertheless, because it fundamentally uses `AnnData` as table for annotating regions, with some minor adjustments we can readily use any tool from the scverse ecosystem (`squidpy` included) to perform downstream analysis.\n",
    "\n",
    "More precisely, the `scverse` ecosystem will gradually transition to use `SpatialData` internally; until that moment the function `to_legacy_anndata()` from `spatialdata_io.experimental` can be used to enrich the `AnnData` in `sdata.tables`  objects to be compatible with the legacy `AnnData` format.\n",
    "\n",
    "Generally (i.e. when a single coordinate system is used), the only adjustment required is to populate `.obsm['spatial']` with the centroids of the geometries being considered, and this is performed automatically by the `spatialdata-io` library. For more complex cases, the converter functions `to_legacy_anndata()` and `from_legacy_anndata()` can be used (see example at the end of the notebook)."
   ]
  },
  {
   "cell_type": "markdown",
   "metadata": {},
   "source": [
    "## Xenium example"
   ]
  },
  {
   "cell_type": "markdown",
   "metadata": {},
   "source": [
    "As an example of integration with `Squidpy`, let's compute a nearest neighbor graph of the spatial coordiantes of the xenium dataset."
   ]
  },
  {
   "cell_type": "code",
   "execution_count": 3,
   "metadata": {},
   "outputs": [],
   "source": [
    "sq.gr.spatial_neighbors(sdata[\"table\"])"
   ]
  },
  {
   "cell_type": "markdown",
   "metadata": {},
   "source": [
    "After that, we can cluster the cells based on gene expression profiles and compute clustering."
   ]
  },
  {
   "cell_type": "code",
   "execution_count": 4,
   "metadata": {},
   "outputs": [
    {
     "name": "stderr",
     "output_type": "stream",
     "text": [
      "/opt/miniconda3/envs/ome/lib/python3.11/site-packages/sklearn/utils/sparsefuncs.py:737: RuntimeWarning: divide by zero encountered in matmul\n",
      "  matmat=lambda x: X @ x - offset @ x,\n",
      "/opt/miniconda3/envs/ome/lib/python3.11/site-packages/sklearn/utils/sparsefuncs.py:737: RuntimeWarning: overflow encountered in matmul\n",
      "  matmat=lambda x: X @ x - offset @ x,\n",
      "/opt/miniconda3/envs/ome/lib/python3.11/site-packages/sklearn/utils/sparsefuncs.py:737: RuntimeWarning: invalid value encountered in matmul\n",
      "  matmat=lambda x: X @ x - offset @ x,\n",
      "/opt/miniconda3/envs/ome/lib/python3.11/site-packages/tqdm/auto.py:21: TqdmWarning: IProgress not found. Please update jupyter and ipywidgets. See https://ipywidgets.readthedocs.io/en/stable/user_install.html\n",
      "  from .autonotebook import tqdm as notebook_tqdm\n"
     ]
    },
    {
     "name": "stdout",
     "output_type": "stream",
     "text": [
      "CPU times: user 16.2 s, sys: 517 ms, total: 16.8 s\n",
      "Wall time: 16.6 s\n"
     ]
    },
    {
     "ename": "ImportError",
     "evalue": "Please install the igraph package: `conda install -c conda-forge python-igraph` or `pip3 install igraph`.",
     "output_type": "error",
     "traceback": [
      "\u001b[31m---------------------------------------------------------------------------\u001b[39m",
      "\u001b[31mImportError\u001b[39m                               Traceback (most recent call last)",
      "\u001b[36mCell\u001b[39m\u001b[36m \u001b[39m\u001b[32mIn[4]\u001b[39m\u001b[32m, line 1\u001b[39m\n\u001b[32m----> \u001b[39m\u001b[32m1\u001b[39m \u001b[43mget_ipython\u001b[49m\u001b[43m(\u001b[49m\u001b[43m)\u001b[49m\u001b[43m.\u001b[49m\u001b[43mrun_cell_magic\u001b[49m\u001b[43m(\u001b[49m\u001b[33;43m'\u001b[39;49m\u001b[33;43mtime\u001b[39;49m\u001b[33;43m'\u001b[39;49m\u001b[43m,\u001b[49m\u001b[43m \u001b[49m\u001b[33;43m'\u001b[39;49m\u001b[33;43m'\u001b[39;49m\u001b[43m,\u001b[49m\u001b[43m \u001b[49m\u001b[33;43m'\u001b[39;49m\u001b[33;43msc.pp.pca(sdata[\u001b[39;49m\u001b[33;43m\"\u001b[39;49m\u001b[33;43mtable\u001b[39;49m\u001b[33;43m\"\u001b[39;49m\u001b[33;43m])\u001b[39;49m\u001b[38;5;130;43;01m\\n\u001b[39;49;00m\u001b[33;43msc.pp.neighbors(sdata[\u001b[39;49m\u001b[33;43m\"\u001b[39;49m\u001b[33;43mtable\u001b[39;49m\u001b[33;43m\"\u001b[39;49m\u001b[33;43m])\u001b[39;49m\u001b[38;5;130;43;01m\\n\u001b[39;49;00m\u001b[33;43msc.tl.leiden(sdata[\u001b[39;49m\u001b[33;43m\"\u001b[39;49m\u001b[33;43mtable\u001b[39;49m\u001b[33;43m\"\u001b[39;49m\u001b[33;43m])\u001b[39;49m\u001b[38;5;130;43;01m\\n\u001b[39;49;00m\u001b[33;43m'\u001b[39;49m\u001b[43m)\u001b[49m\n",
      "\u001b[36mFile \u001b[39m\u001b[32m/opt/miniconda3/envs/ome/lib/python3.11/site-packages/IPython/core/interactiveshell.py:2565\u001b[39m, in \u001b[36mInteractiveShell.run_cell_magic\u001b[39m\u001b[34m(self, magic_name, line, cell)\u001b[39m\n\u001b[32m   2563\u001b[39m \u001b[38;5;28;01mwith\u001b[39;00m \u001b[38;5;28mself\u001b[39m.builtin_trap:\n\u001b[32m   2564\u001b[39m     args = (magic_arg_s, cell)\n\u001b[32m-> \u001b[39m\u001b[32m2565\u001b[39m     result = \u001b[43mfn\u001b[49m\u001b[43m(\u001b[49m\u001b[43m*\u001b[49m\u001b[43margs\u001b[49m\u001b[43m,\u001b[49m\u001b[43m \u001b[49m\u001b[43m*\u001b[49m\u001b[43m*\u001b[49m\u001b[43mkwargs\u001b[49m\u001b[43m)\u001b[49m\n\u001b[32m   2567\u001b[39m \u001b[38;5;66;03m# The code below prevents the output from being displayed\u001b[39;00m\n\u001b[32m   2568\u001b[39m \u001b[38;5;66;03m# when using magics with decorator @output_can_be_silenced\u001b[39;00m\n\u001b[32m   2569\u001b[39m \u001b[38;5;66;03m# when the last Python token in the expression is a ';'.\u001b[39;00m\n\u001b[32m   2570\u001b[39m \u001b[38;5;28;01mif\u001b[39;00m \u001b[38;5;28mgetattr\u001b[39m(fn, magic.MAGIC_OUTPUT_CAN_BE_SILENCED, \u001b[38;5;28;01mFalse\u001b[39;00m):\n",
      "\u001b[36mFile \u001b[39m\u001b[32m/opt/miniconda3/envs/ome/lib/python3.11/site-packages/IPython/core/magics/execution.py:1470\u001b[39m, in \u001b[36mExecutionMagics.time\u001b[39m\u001b[34m(self, line, cell, local_ns)\u001b[39m\n\u001b[32m   1468\u001b[39m \u001b[38;5;28;01mif\u001b[39;00m interrupt_occured:\n\u001b[32m   1469\u001b[39m     \u001b[38;5;28;01mif\u001b[39;00m exit_on_interrupt \u001b[38;5;129;01mand\u001b[39;00m captured_exception:\n\u001b[32m-> \u001b[39m\u001b[32m1470\u001b[39m         \u001b[38;5;28;01mraise\u001b[39;00m captured_exception\n\u001b[32m   1471\u001b[39m     \u001b[38;5;28;01mreturn\u001b[39;00m\n\u001b[32m   1472\u001b[39m \u001b[38;5;28;01mreturn\u001b[39;00m out\n",
      "\u001b[36mFile \u001b[39m\u001b[32m/opt/miniconda3/envs/ome/lib/python3.11/site-packages/IPython/core/magics/execution.py:1439\u001b[39m, in \u001b[36mExecutionMagics.time\u001b[39m\u001b[34m(self, line, cell, local_ns)\u001b[39m\n\u001b[32m   1437\u001b[39m     \u001b[38;5;28;01mif\u001b[39;00m expr_val \u001b[38;5;129;01mis\u001b[39;00m \u001b[38;5;129;01mnot\u001b[39;00m \u001b[38;5;28;01mNone\u001b[39;00m:\n\u001b[32m   1438\u001b[39m         code_2 = \u001b[38;5;28mself\u001b[39m.shell.compile(expr_val, source, \u001b[33m'\u001b[39m\u001b[33meval\u001b[39m\u001b[33m'\u001b[39m)\n\u001b[32m-> \u001b[39m\u001b[32m1439\u001b[39m         out = \u001b[38;5;28;43meval\u001b[39;49m\u001b[43m(\u001b[49m\u001b[43mcode_2\u001b[49m\u001b[43m,\u001b[49m\u001b[43m \u001b[49m\u001b[43mglob\u001b[49m\u001b[43m,\u001b[49m\u001b[43m \u001b[49m\u001b[43mlocal_ns\u001b[49m\u001b[43m)\u001b[49m\n\u001b[32m   1440\u001b[39m \u001b[38;5;28;01mexcept\u001b[39;00m \u001b[38;5;167;01mKeyboardInterrupt\u001b[39;00m \u001b[38;5;28;01mas\u001b[39;00m e:\n\u001b[32m   1441\u001b[39m     captured_exception = e\n",
      "\u001b[36mFile \u001b[39m\u001b[32m<timed exec>:3\u001b[39m\n",
      "\u001b[36mFile \u001b[39m\u001b[32m/opt/miniconda3/envs/ome/lib/python3.11/site-packages/scanpy/tools/_leiden.py:126\u001b[39m, in \u001b[36mleiden\u001b[39m\u001b[34m(adata, resolution, restrict_to, random_state, key_added, adjacency, directed, use_weights, n_iterations, partition_type, neighbors_key, obsp, copy, flavor, **clustering_args)\u001b[39m\n\u001b[32m    122\u001b[39m     msg = (\n\u001b[32m    123\u001b[39m         \u001b[33mf\u001b[39m\u001b[33m\"\u001b[39m\u001b[33mflavor must be either \u001b[39m\u001b[33m'\u001b[39m\u001b[33migraph\u001b[39m\u001b[33m'\u001b[39m\u001b[33m or \u001b[39m\u001b[33m'\u001b[39m\u001b[33mleidenalg\u001b[39m\u001b[33m'\u001b[39m\u001b[33m, but \u001b[39m\u001b[38;5;132;01m{\u001b[39;00mflavor\u001b[38;5;132;01m!r}\u001b[39;00m\u001b[33m was passed\u001b[39m\u001b[33m\"\u001b[39m\n\u001b[32m    124\u001b[39m     )\n\u001b[32m    125\u001b[39m     \u001b[38;5;28;01mraise\u001b[39;00m \u001b[38;5;167;01mValueError\u001b[39;00m(msg)\n\u001b[32m--> \u001b[39m\u001b[32m126\u001b[39m \u001b[43m_utils\u001b[49m\u001b[43m.\u001b[49m\u001b[43mensure_igraph\u001b[49m\u001b[43m(\u001b[49m\u001b[43m)\u001b[49m\n\u001b[32m    127\u001b[39m \u001b[38;5;28;01mif\u001b[39;00m flavor == \u001b[33m\"\u001b[39m\u001b[33migraph\u001b[39m\u001b[33m\"\u001b[39m:\n\u001b[32m    128\u001b[39m     \u001b[38;5;28;01mif\u001b[39;00m directed:\n",
      "\u001b[36mFile \u001b[39m\u001b[32m/opt/miniconda3/envs/ome/lib/python3.11/site-packages/scanpy/_utils/__init__.py:91\u001b[39m, in \u001b[36mensure_igraph\u001b[39m\u001b[34m()\u001b[39m\n\u001b[32m     85\u001b[39m     \u001b[38;5;28;01mreturn\u001b[39;00m\n\u001b[32m     86\u001b[39m msg = (\n\u001b[32m     87\u001b[39m     \u001b[33m\"\u001b[39m\u001b[33mPlease install the igraph package: \u001b[39m\u001b[33m\"\u001b[39m\n\u001b[32m     88\u001b[39m     \u001b[33m\"\u001b[39m\u001b[33m`conda install -c conda-forge python-igraph` or \u001b[39m\u001b[33m\"\u001b[39m\n\u001b[32m     89\u001b[39m     \u001b[33m\"\u001b[39m\u001b[33m`pip3 install igraph`.\u001b[39m\u001b[33m\"\u001b[39m\n\u001b[32m     90\u001b[39m )\n\u001b[32m---> \u001b[39m\u001b[32m91\u001b[39m \u001b[38;5;28;01mraise\u001b[39;00m \u001b[38;5;167;01mImportError\u001b[39;00m(msg)\n",
      "\u001b[31mImportError\u001b[39m: Please install the igraph package: `conda install -c conda-forge python-igraph` or `pip3 install igraph`."
     ]
    }
   ],
   "source": [
    "%%time\n",
    "sc.pp.pca(sdata[\"table\"])\n",
    "sc.pp.neighbors(sdata[\"table\"])\n",
    "sc.tl.leiden(sdata[\"table\"])"
   ]
  },
  {
   "cell_type": "markdown",
   "metadata": {},
   "source": [
    "And run the neighbor enrichment analysis in squidpy."
   ]
  },
  {
   "cell_type": "code",
   "execution_count": null,
   "metadata": {},
   "outputs": [],
   "source": [
    "sq.gr.nhood_enrichment(sdata[\"table\"], cluster_key=\"leiden\")\n",
    "sq.pl.nhood_enrichment(sdata[\"table\"], cluster_key=\"leiden\", figsize=(5, 5))"
   ]
  },
  {
   "cell_type": "markdown",
   "metadata": {},
   "source": [
    "We can finally visualize the results in spatial coordinates both with squidpy as well as with the novel plotting function in spatialdata.\n"
   ]
  },
  {
   "cell_type": "code",
   "execution_count": null,
   "metadata": {},
   "outputs": [],
   "source": [
    "%%time\n",
    "sq.pl.spatial_scatter(sdata[\"table\"], shape=None, color=\"leiden\")"
   ]
  },
  {
   "cell_type": "code",
   "execution_count": null,
   "metadata": {},
   "outputs": [],
   "source": [
    "%%time\n",
    "# currently we need either to use `method='matplotlib`` (which is significantly slower than `method='datashader'`) or we need the one line workaround below because of this bug:\n",
    "# https://github.com/scverse/spatialdata-plot/issues/291.\n",
    "sdata[\"cell_circles\"] = sd.transform(sdata[\"cell_circles\"], to_coordinate_system=\"global\")  # workaround\n",
    "sdata.pl.render_shapes(\"cell_circles\", color=\"leiden\", method=\"datashader\").pl.show(coordinate_systems=\"global\")"
   ]
  },
  {
   "cell_type": "markdown",
   "metadata": {},
   "source": [
    "## Using the converters from/to the legacy spatial `AnnData` format"
   ]
  },
  {
   "cell_type": "markdown",
   "metadata": {},
   "source": [
    "We will now show how to convert from/to the legacy spatialdata `AnnData` format. The convertes deal with the complexity of having multiple libraries in the legacy format, and with the generality of coordinate systems in `SpatialData`. For more information please refer to the API documentation of `spatialdata-io`."
   ]
  },
  {
   "cell_type": "code",
   "execution_count": null,
   "metadata": {},
   "outputs": [],
   "source": [
    "from typing import Literal\n",
    "\n",
    "import matplotlib.pyplot as plt\n",
    "import scanpy as sc\n",
    "import squidpy as sq\n",
    "from spatialdata.datasets import blobs_annotating_element\n",
    "from spatialdata.transformations import Affine, set_transformation\n",
    "from spatialdata_io.experimental import from_legacy_anndata, to_legacy_anndata\n",
    "\n",
    "BlobsTypes = Literal[\"blobs_labels\", \"blobs_circles\", \"blobs_polygons\", \"blobs_multipolygons\"]"
   ]
  },
  {
   "cell_type": "markdown",
   "metadata": {},
   "source": [
    "### Example of conversion from the legacy AnnData to SpatialData"
   ]
  },
  {
   "cell_type": "code",
   "execution_count": null,
   "metadata": {},
   "outputs": [],
   "source": [
    "# some datasets you can play around with\n",
    "# adata = sq.datasets.visium_fluo_adata()\n",
    "# adata = sq.datasets.merfish()\n",
    "adata = sq.datasets.visium_hne_adata_crop()\n",
    "\n",
    "sdata = from_legacy_anndata(adata)\n",
    "\n",
    "my_gene = \"Itpka\"\n",
    "# broken (multiple table not yet supported in spatialdata-plot), this is being fix in https://github.com/scverse/spatialdata-plot/pull/220\n",
    "sdata.pl.render_images(\"V1_Adult_Mouse_Brain_hires_image\").pl.render_shapes(color=my_gene).pl.show()\n",
    "plt.show()"
   ]
  },
  {
   "cell_type": "markdown",
   "metadata": {},
   "source": [
    "### Example of conversion from SpatialData to the legacy AnnData, showing also that affine transformations are handled"
   ]
  },
  {
   "cell_type": "code",
   "execution_count": null,
   "metadata": {},
   "outputs": [],
   "source": [
    "element = \"blobs_circles\"\n",
    "sdata = blobs_annotating_element(element)\n",
    "image = \"blobs_multiscale_image\"\n",
    "\n",
    "affine = Affine([[1, 2, 3], [-2, 1, 6], [0, 0, 1]], input_axes=(\"x\", \"y\"), output_axes=(\"x\", \"y\"))\n",
    "set_transformation(sdata[element], affine, \"transformed\")\n",
    "set_transformation(sdata[image], affine, \"transformed\")\n",
    "\n",
    "adata = to_legacy_anndata(sdata, include_images=True, coordinate_system=\"transformed\")\n",
    "\n",
    "axes = plt.subplots(1, 2, figsize=(10, 5))[1]\n",
    "sdata.pl.render_images(image).pl.render_shapes(element).pl.show(coordinate_systems=[\"transformed\"], ax=axes[0])\n",
    "sc.pl.spatial(\n",
    "    adata,\n",
    "    spot_size=300,\n",
    "    library_id=image,\n",
    "    img_key=\"hires\",\n",
    "    na_color=\"white\",\n",
    "    show=True,\n",
    "    crop_coord=(0, 2000, 0, 2000),\n",
    "    ax=axes[1],\n",
    ")"
   ]
  }
 ],
 "metadata": {
  "kernelspec": {
   "display_name": "Python 3 (ipykernel)",
   "language": "python",
   "name": "python3"
  },
  "language_info": {
   "codemirror_mode": {
    "name": "ipython",
    "version": 3
   },
   "file_extension": ".py",
   "mimetype": "text/x-python",
   "name": "python",
   "nbconvert_exporter": "python",
   "pygments_lexer": "ipython3",
   "version": "3.11.0"
  },
  "vscode": {
   "interpreter": {
    "hash": "ee4d5b535197dae0a4992124b5514302e65224b4d85c75a4ef4aca89a13d51e4"
   }
  }
 },
 "nbformat": 4,
 "nbformat_minor": 4
}
