{
 "cells": [
  {
   "cell_type": "markdown",
   "id": "3f941ac7-6cd1-4087-ba7b-15a3d2cabf77",
   "metadata": {},
   "source": [
    "# Use landmark annotations to align multiple -omics layers"
   ]
  },
  {
   "cell_type": "markdown",
   "id": "dee45520",
   "metadata": {},
   "source": [
    "We will align a Xenium and a Visium datasets for a breast cancer dataset.\n",
    "\n",
    "We will:\n",
    "1. load the data from Zarr;\n",
    "2. add landmark annotations to the data using napari;\n",
    "3. find an affine similarity transformation that aligns the data.\n"
   ]
  },
  {
   "cell_type": "markdown",
   "id": "c1ecb39a",
   "metadata": {},
   "source": [
    "## Loading the data\n"
   ]
  },
  {
   "cell_type": "markdown",
   "id": "dc11fee9",
   "metadata": {},
   "source": [
    "You can download the data from here: [Xenium dataset](https://s3.embl.de/spatialdata/spatialdata-sandbox/xenium_rep1_io.zip), [Visium dataset](https://s3.embl.de/spatialdata/spatialdata-sandbox/visium_associated_xenium_io.zip). Please rename the files to `xenium.zarr` and `visium.zarr` and place them in the same folder as this notebook (or use symlinks to make the data accessible)."
   ]
  },
  {
   "cell_type": "code",
   "execution_count": 1,
   "id": "1f53261205fc9441",
   "metadata": {},
   "outputs": [
    {
     "name": "stderr",
     "output_type": "stream",
     "text": [
      "/mnt/miniconda3/envs/ome/lib/python3.10/site-packages/dask/dataframe/__init__.py:31: FutureWarning: The legacy Dask DataFrame implementation is deprecated and will be removed in a future version. Set the configuration option `dataframe.query-planning` to `True` or None to enable the new Dask Dataframe implementation and silence this warning.\n",
      "  warnings.warn(\n"
     ]
    }
   ],
   "source": [
    "import numpy as np\n",
    "import spatialdata as sd\n",
    "\n",
    "import spatialdata_plot  # noqa: F401"
   ]
  },
  {
   "cell_type": "code",
   "execution_count": 2,
   "id": "b688e9cd77be1055",
   "metadata": {},
   "outputs": [
    {
     "name": "stderr",
     "output_type": "stream",
     "text": [
      "/mnt/miniconda3/envs/ome/lib/python3.10/site-packages/zarr/creation.py:614: UserWarning: ignoring keyword argument 'read_only'\n",
      "  compressor, fill_value = _kwargs_compat(compressor, fill_value, kwargs)\n",
      "/mnt/miniconda3/envs/ome/lib/python3.10/site-packages/anndata/_core/aligned_df.py:68: ImplicitModificationWarning: Transforming to str index.\n",
      "  warnings.warn(\"Transforming to str index.\", ImplicitModificationWarning)\n"
     ]
    },
    {
     "data": {
      "text/plain": [
       "SpatialData object, with associated Zarr store: /mnt/repos/spatialdata-sandbox/xenium_rep1_io/data.zarr\n",
       "├── Images\n",
       "│     ├── 'morphology_focus': DataTree[cyx] (1, 25778, 35416), (1, 12889, 17708), (1, 6444, 8854), (1, 3222, 4427), (1, 1611, 2213)\n",
       "│     └── 'morphology_mip': DataTree[cyx] (1, 25778, 35416), (1, 12889, 17708), (1, 6444, 8854), (1, 3222, 4427), (1, 1611, 2213)\n",
       "├── Points\n",
       "│     └── 'transcripts': DataFrame with shape: (<Delayed>, 8) (3D points)\n",
       "├── Shapes\n",
       "│     ├── 'cell_boundaries': GeoDataFrame shape: (167780, 1) (2D shapes)\n",
       "│     └── 'cell_circles': GeoDataFrame shape: (167780, 2) (2D shapes)\n",
       "└── Tables\n",
       "      └── 'table': AnnData (167780, 313)\n",
       "with coordinate systems:\n",
       "    ▸ 'global', with elements:\n",
       "        morphology_focus (Images), morphology_mip (Images), transcripts (Points), cell_boundaries (Shapes), cell_circles (Shapes)"
      ]
     },
     "execution_count": 2,
     "metadata": {},
     "output_type": "execute_result"
    }
   ],
   "source": [
    "xenium_sdata = sd.read_zarr(\"xenium.zarr\")\n",
    "xenium_sdata"
   ]
  },
  {
   "cell_type": "code",
   "execution_count": 3,
   "id": "934577dfc660308c",
   "metadata": {},
   "outputs": [
    {
     "name": "stderr",
     "output_type": "stream",
     "text": [
      "/mnt/miniconda3/envs/ome/lib/python3.10/site-packages/zarr/creation.py:614: UserWarning: ignoring keyword argument 'read_only'\n",
      "  compressor, fill_value = _kwargs_compat(compressor, fill_value, kwargs)\n",
      "/mnt/miniconda3/envs/ome/lib/python3.10/site-packages/zarr/creation.py:614: UserWarning: ignoring keyword argument 'read_only'\n",
      "  compressor, fill_value = _kwargs_compat(compressor, fill_value, kwargs)\n",
      "/mnt/miniconda3/envs/ome/lib/python3.10/site-packages/zarr/creation.py:614: UserWarning: ignoring keyword argument 'read_only'\n",
      "  compressor, fill_value = _kwargs_compat(compressor, fill_value, kwargs)\n",
      "/mnt/miniconda3/envs/ome/lib/python3.10/site-packages/zarr/creation.py:614: UserWarning: ignoring keyword argument 'read_only'\n",
      "  compressor, fill_value = _kwargs_compat(compressor, fill_value, kwargs)\n",
      "/mnt/miniconda3/envs/ome/lib/python3.10/site-packages/zarr/creation.py:614: UserWarning: ignoring keyword argument 'read_only'\n",
      "  compressor, fill_value = _kwargs_compat(compressor, fill_value, kwargs)\n",
      "/mnt/miniconda3/envs/ome/lib/python3.10/site-packages/zarr/creation.py:614: UserWarning: ignoring keyword argument 'read_only'\n",
      "  compressor, fill_value = _kwargs_compat(compressor, fill_value, kwargs)\n",
      "/mnt/miniconda3/envs/ome/lib/python3.10/site-packages/zarr/creation.py:614: UserWarning: ignoring keyword argument 'read_only'\n",
      "  compressor, fill_value = _kwargs_compat(compressor, fill_value, kwargs)\n"
     ]
    },
    {
     "data": {
      "text/plain": [
       "SpatialData object, with associated Zarr store: /mnt/repos/spatialdata-sandbox/visium_associated_xenium_io/data.zarr\n",
       "├── Images\n",
       "│     ├── 'CytAssist_FFPE_Human_Breast_Cancer_full_image': DataTree[cyx] (3, 21571, 19505), (3, 10785, 9752), (3, 5392, 4876), (3, 2696, 2438), (3, 1348, 1219)\n",
       "│     ├── 'CytAssist_FFPE_Human_Breast_Cancer_hires_image': DataArray[cyx] (3, 2000, 1809)\n",
       "│     └── 'CytAssist_FFPE_Human_Breast_Cancer_lowres_image': DataArray[cyx] (3, 600, 543)\n",
       "├── Shapes\n",
       "│     └── 'CytAssist_FFPE_Human_Breast_Cancer': GeoDataFrame shape: (4992, 2) (2D shapes)\n",
       "└── Tables\n",
       "      └── 'table': AnnData (4992, 18085)\n",
       "with coordinate systems:\n",
       "    ▸ 'CytAssist_FFPE_Human_Breast_Cancer', with elements:\n",
       "        CytAssist_FFPE_Human_Breast_Cancer_full_image (Images), CytAssist_FFPE_Human_Breast_Cancer_hires_image (Images), CytAssist_FFPE_Human_Breast_Cancer_lowres_image (Images), CytAssist_FFPE_Human_Breast_Cancer (Shapes)\n",
       "    ▸ 'CytAssist_FFPE_Human_Breast_Cancer_downscaled_hires', with elements:\n",
       "        CytAssist_FFPE_Human_Breast_Cancer_hires_image (Images), CytAssist_FFPE_Human_Breast_Cancer (Shapes)\n",
       "    ▸ 'CytAssist_FFPE_Human_Breast_Cancer_downscaled_lowres', with elements:\n",
       "        CytAssist_FFPE_Human_Breast_Cancer_lowres_image (Images), CytAssist_FFPE_Human_Breast_Cancer (Shapes)"
      ]
     },
     "execution_count": 3,
     "metadata": {},
     "output_type": "execute_result"
    }
   ],
   "source": [
    "visium_sdata = sd.read_zarr(\"visium.zarr\")\n",
    "visium_sdata"
   ]
  },
  {
   "cell_type": "markdown",
   "id": "22214041-5f95-4331-af51-220ceac759e5",
   "metadata": {},
   "source": [
    "Technical Note: this notebook is routinely executed as part of our continuous integration system. As shown above, the landmark locations are already included in the SpatialData object. We will now remove these landmark points and demonstrate how to save them at the end of the notebook."
   ]
  },
  {
   "cell_type": "code",
   "execution_count": 4,
   "id": "ecae82b4-a0ae-4183-b570-f0af2f234392",
   "metadata": {},
   "outputs": [],
   "source": [
    "if \"visium_landmarks\" in visium_sdata:\n",
    "    visium_sdata.delete_element_from_disk(\"visium_landmarks\")\n",
    "    del visium_sdata[\"visium_landmarks\"]\n",
    "\n",
    "if \"xenium_landmarks\" in xenium_sdata:\n",
    "    xenium_sdata.delete_element_from_disk(\"xenium_landmarks\")\n",
    "    del xenium_sdata[\"xenium_landmarks\"]"
   ]
  },
  {
   "cell_type": "markdown",
   "id": "12c5b4809c9be7ec",
   "metadata": {},
   "source": [
    "Let's visualize the data with napari.\n",
    "\n",
    "*Note: we are working with the napari developers to improve performance when visualizing large collections of geometries. For the sake of this example let's just show the Xenium and Visium images.*"
   ]
  },
  {
   "cell_type": "raw",
   "id": "581982a1-a0c9-428c-ad22-61e659e7f66d",
   "metadata": {},
   "source": [
    "from napari_spatialdata import Interactive\n",
    "\n",
    "Interactive([visium_sdata, xenium_sdata])"
   ]
  },
  {
   "cell_type": "markdown",
   "id": "0ec2165b",
   "metadata": {},
   "source": [
    "Here is a screenshot of the napari viewer. The images are not spatially aligned."
   ]
  },
  {
   "cell_type": "markdown",
   "id": "f87c30be-9aa7-4d89-92f6-0427a4ae3f28",
   "metadata": {},
   "source": [
    "![](attachments/landmarks0.png)"
   ]
  },
  {
   "cell_type": "markdown",
   "id": "dd50e8fe",
   "metadata": {},
   "source": [
    "## Adding landmark annotations\n",
    "\n",
    "Let's add some landmarks annotations using napari. We will add 3 landmarks to the Visium image to mark recognizable anatomical structures. We will then add, 3 landmarks to the Xenium image to the corresponding anatomical structures, in the same order. One can add more than 3 landmarks per image, as long as the order match between the images.\n",
    "\n",
    "This is the procedure to annotate and save the landmark locations (shown in the GIF):\n",
    "1. open `napari` with `Interactive()` from `napari_spatialdata`\n",
    "2. create a new Points layer in napari\n",
    "3. (optional) rename the layer\n",
    "4. (optional) change the color and points size for easier visualization\n",
    "5. click to add the annotation point\n",
    "6. (optional) use the `napari` functions to move/delete points\n",
    "7. Since we have more than 1 `SpatialData` object open in the viewer, we need to link the new layer to the `SpatialData` \n",
    "object it should be added to. Select both the new layer and a layer already linked to a `SpatialData` object and press\n",
    "`Shift + L`. A message will pop up stating `layer linked to ...` indicating success of linking the new layer to\n",
    "`SpatialData` object.\n",
    "8. save the annotation to the `SpatialData` object by pressing `Shift + E` (if you called `Interactive()` passing multiple `SpatialData` objects, the annotations will be saved to one of them).\n"
   ]
  },
  {
   "cell_type": "markdown",
   "id": "de40a8c6-4e84-4595-816a-2f442f5be320",
   "metadata": {
    "tags": []
   },
   "source": [
    "![](attachments/landmarks1.gif)"
   ]
  },
  {
   "cell_type": "markdown",
   "id": "5890a6dc",
   "metadata": {},
   "source": [
    "For reproducibility, we hardcoded in this notebook the landmark annotations for the Visium and Xenium data. We will add them to the respective `SpatialData` objects, both in-memory and on-disk, as if they were were saved with napari."
   ]
  },
  {
   "cell_type": "code",
   "execution_count": 5,
   "id": "9d6ba021",
   "metadata": {
    "ExecuteTime": {
     "end_time": "2023-04-10T18:56:53.392894Z",
     "start_time": "2023-04-10T18:56:53.353994Z"
    },
    "tags": []
   },
   "outputs": [],
   "source": [
    "from spatialdata.models import ShapesModel\n",
    "from spatialdata.transformations import Identity\n",
    "\n",
    "visium_landmarks = ShapesModel.parse(\n",
    "    np.array([[10556.699, 7829.764], [13959.155, 13522.025], [10621.200, 17392.116]]),\n",
    "    geometry=0,\n",
    "    radius=500,\n",
    "    transformations={\"CytAssist_FFPE_Human_Breast_Cancer\": Identity()},\n",
    ")\n",
    "visium_sdata[\"visium_landmarks\"] = visium_landmarks\n",
    "\n",
    "# for Xenium data, the data is aligned to the 'global' coordinate system as with can see with print(xenium_sdata), so there is no need to specify transformations in .parse()\n",
    "xenium_landmarks = ShapesModel.parse(\n",
    "    np.array([[9438.385, 13933.017], [24847.866, 5948.002], [34082.584, 15234.235]]), geometry=0, radius=500\n",
    ")\n",
    "xenium_sdata[\"xenium_landmarks\"] = xenium_landmarks"
   ]
  },
  {
   "cell_type": "markdown",
   "id": "b2b382d7",
   "metadata": {},
   "source": [
    "## Finding the affine similarity transformation\n",
    "\n",
    "### Aligning the images\n",
    "\n",
    "We will now use the landmarks to find a similarity affine transformations that maps the Visium image onto the Xenium one."
   ]
  },
  {
   "cell_type": "code",
   "execution_count": 6,
   "id": "d8f6dff4-ff07-495d-b29f-1e20e3f49d84",
   "metadata": {
    "ExecuteTime": {
     "end_time": "2023-04-10T19:09:31.490570Z",
     "start_time": "2023-04-10T19:09:31.453640Z"
    },
    "tags": []
   },
   "outputs": [
    {
     "data": {
      "text/plain": [
       "Affine (x, y -> x, y)\n",
       "    [ 1.61711846e-01  2.58258090e+00 -1.24575040e+04]\n",
       "    [-2.58258090e+00  1.61711846e-01  3.98647301e+04]\n",
       "    [0. 0. 1.]"
      ]
     },
     "execution_count": 6,
     "metadata": {},
     "output_type": "execute_result"
    }
   ],
   "source": [
    "from spatialdata.transformations import (\n",
    "    align_elements_using_landmarks,\n",
    "    get_transformation_between_landmarks,\n",
    ")\n",
    "\n",
    "affine = get_transformation_between_landmarks(\n",
    "    references_coords=xenium_sdata[\"xenium_landmarks\"], moving_coords=visium_sdata[\"visium_landmarks\"]\n",
    ")\n",
    "affine"
   ]
  },
  {
   "cell_type": "markdown",
   "id": "5793e680",
   "metadata": {},
   "source": [
    "To apply the transformation to the Visium data, we will use the `align_elements_using_landmarks` function. This function internally calls `get_transformation_between_landmarks` and adds the transformation to the `SpatialData` object. It then returns the same affine matrix.\n",
    "\n",
    "More specifically, we will align the image `CytAssist_FFPE_Human_Breast_Cancer_full_image` from the Visium data onto the `morphology_mip` image from the Xenium data. Both images live in the `\"global\"` coordinate system (you can see this information by printing `xenium_sdata` and `visium_sdata`). The images are not aligned in the `\"global\"` coordinate system, and we want them to be aligned in a new coordinate system called `\"aligned\"`."
   ]
  },
  {
   "cell_type": "code",
   "execution_count": 7,
   "id": "e71718a2",
   "metadata": {
    "collapsed": false,
    "jupyter": {
     "outputs_hidden": false
    },
    "tags": []
   },
   "outputs": [
    {
     "data": {
      "text/plain": [
       "Sequence \n",
       "    Identity \n",
       "    Affine (x, y -> x, y)\n",
       "        [ 1.61711846e-01  2.58258090e+00 -1.24575040e+04]\n",
       "        [-2.58258090e+00  1.61711846e-01  3.98647301e+04]\n",
       "        [0. 0. 1.]"
      ]
     },
     "execution_count": 7,
     "metadata": {},
     "output_type": "execute_result"
    }
   ],
   "source": [
    "affine = align_elements_using_landmarks(\n",
    "    references_coords=xenium_sdata[\"xenium_landmarks\"],\n",
    "    moving_coords=visium_sdata[\"visium_landmarks\"],\n",
    "    reference_element=xenium_sdata[\"morphology_focus\"],\n",
    "    moving_element=visium_sdata[\"CytAssist_FFPE_Human_Breast_Cancer_full_image\"],\n",
    "    reference_coordinate_system=\"global\",\n",
    "    moving_coordinate_system=\"CytAssist_FFPE_Human_Breast_Cancer\",\n",
    "    new_coordinate_system=\"aligned\",\n",
    ")\n",
    "affine"
   ]
  },
  {
   "cell_type": "markdown",
   "id": "915cc3a2-47e5-4ec7-ac6c-8526dcbe7f6b",
   "metadata": {},
   "source": [
    "Now the Visium and the Xenium images are aligned in the `aligned` coordinate system via an affine transformation which rotates, scales and translates the data. We can see this in napari."
   ]
  },
  {
   "cell_type": "raw",
   "id": "fc8447f9-8fa8-4ae5-80a7-1dec18840a9b",
   "metadata": {
    "tags": []
   },
   "source": [
    "Interactive([visium_sdata, xenium_sdata])"
   ]
  },
  {
   "cell_type": "markdown",
   "id": "f49d8442-0501-4a9a-965e-c86040c33758",
   "metadata": {
    "tags": []
   },
   "source": [
    "![](attachments/landmarks2.gif)"
   ]
  },
  {
   "cell_type": "markdown",
   "id": "2ac5e715-84f5-4457-ac4a-e1addd9fb355",
   "metadata": {},
   "source": [
    "Note: the above operation doesn't modify the data, but it just modifies the alignment metadata which define how elements are positioned inside coordinate system. Both images are mapped to the `global` coordinate system (in which they are not aligned) and in the `aligned` coordinate system, where they overlap. In napari you can choose which coordinate system to visualize."
   ]
  },
  {
   "cell_type": "markdown",
   "id": "d657aa19-8443-447c-828c-b91b5cb6cf75",
   "metadata": {
    "tags": []
   },
   "source": [
    "![](attachments/landmarks3.gif)"
   ]
  },
  {
   "cell_type": "markdown",
   "id": "0d318e03-8c04-4cc3-9da9-0e56119def9f",
   "metadata": {},
   "source": [
    "### Aligning the rest of the elements\n",
    "\n",
    "So far we mapped the Visium image onto the Xenium image in the `aligned` coordinate system. The rest of the elements are still not aligned. To correct for this we will append the affine transformation calculated above to each transformation for each elements.\n",
    "\n",
    "*Note: this handling of transformation will become more ergonomics in the next code release, removing the need to manually append the transformation as we are doing below. We will update this notebook with the new approach.*"
   ]
  },
  {
   "cell_type": "code",
   "execution_count": 8,
   "id": "5c442fdb-94a9-488c-8d87-cfcc109f9388",
   "metadata": {
    "tags": []
   },
   "outputs": [],
   "source": [
    "from spatialdata import SpatialData\n",
    "from spatialdata.transformations import (\n",
    "    BaseTransformation,\n",
    "    Sequence,\n",
    "    get_transformation,\n",
    "    set_transformation,\n",
    ")\n",
    "\n",
    "\n",
    "def postpone_transformation(\n",
    "    sdata: SpatialData,\n",
    "    transformation: BaseTransformation,\n",
    "    source_coordinate_system: str,\n",
    "    target_coordinate_system: str,\n",
    "):\n",
    "    for element_type, element_name, element in sdata._gen_elements():\n",
    "        old_transformations = get_transformation(element, get_all=True)\n",
    "        if source_coordinate_system in old_transformations:\n",
    "            old_transformation = old_transformations[source_coordinate_system]\n",
    "            sequence = Sequence([old_transformation, transformation])\n",
    "            set_transformation(element, sequence, target_coordinate_system)\n",
    "\n",
    "\n",
    "postpone_transformation(\n",
    "    sdata=visium_sdata,\n",
    "    transformation=affine,\n",
    "    source_coordinate_system=\"global\",\n",
    "    target_coordinate_system=\"aligned\",\n",
    ")"
   ]
  },
  {
   "cell_type": "markdown",
   "id": "1328673d-0c87-4b29-b6d7-d7609b96d394",
   "metadata": {},
   "source": [
    "Let's visualize the result of the alignment with napari."
   ]
  },
  {
   "cell_type": "raw",
   "id": "c7d0e066-2373-4608-a03c-ff91064c79aa",
   "metadata": {
    "tags": []
   },
   "source": [
    "Interactive([visium_sdata, xenium_sdata])"
   ]
  },
  {
   "cell_type": "markdown",
   "id": "d6b443cd-9f35-45f8-9f55-9ec108b0b1d9",
   "metadata": {
    "tags": []
   },
   "source": [
    "![](attachments/landmarks4.png)"
   ]
  },
  {
   "cell_type": "markdown",
   "id": "be9277db",
   "metadata": {},
   "source": [
    "### Saving the landmarks and the alignment back to Zarr\n"
   ]
  },
  {
   "cell_type": "markdown",
   "id": "2e98374c-85cd-45ad-ac62-b2bc075c9631",
   "metadata": {},
   "source": [
    "We will now save the landmark points and the transformations of the other elements to disk. First we write the elements to disk and then the transformations.\n",
    "\n",
    "Notice that these are both lightweight operations because the two sets of landmark points are small, and when saving the transformation of the other elements we are modifying the objects metadata, not transforming the actual data. This is useful when dealing with large images and when one may need to reiterate multiple steps of landmark-based alignment in order to improve the spatial agreement of the alignment."
   ]
  },
  {
   "cell_type": "code",
   "execution_count": 9,
   "id": "474410bd-2d02-45c1-b073-eba1152ab615",
   "metadata": {
    "tags": []
   },
   "outputs": [],
   "source": [
    "visium_sdata.write_element(\"visium_landmarks\")\n",
    "xenium_sdata.write_element(\"xenium_landmarks\")\n",
    "visium_sdata.write_transformations()\n",
    "xenium_sdata.write_transformations()"
   ]
  }
 ],
 "metadata": {
  "kernelspec": {
   "display_name": "Python 3 (ipykernel)",
   "language": "python",
   "name": "python3"
  },
  "language_info": {
   "codemirror_mode": {
    "name": "ipython",
    "version": 3
   },
   "file_extension": ".py",
   "mimetype": "text/x-python",
   "name": "python",
   "nbconvert_exporter": "python",
   "pygments_lexer": "ipython3",
   "version": "3.11.0"
  },
  "vscode": {
   "interpreter": {
    "hash": "830f4db94a7e048b072d559f6337879e869a5f16cc1fbf14c7dab0d06a5037ae"
   }
  }
 },
 "nbformat": 4,
 "nbformat_minor": 5
}
