{
 "cells": [
  {
   "cell_type": "markdown",
   "id": "c1d72bc7-d031-4e8e-97b5-47ecb5524e11",
   "metadata": {},
   "source": [
    "# Annotating regions of interest with `napari`"
   ]
  },
  {
   "cell_type": "markdown",
   "id": "b7259ae5-4d1a-4a6c-8af4-ea44b24d51d8",
   "metadata": {},
   "source": [
    "We will show how to use `napari` for drawing regions of interesets and how to access these annotations via code."
   ]
  },
  {
   "cell_type": "code",
   "execution_count": 1,
   "id": "1ca349bd",
   "metadata": {
    "ExecuteTime": {
     "end_time": "2023-04-10T21:55:24.852734Z",
     "start_time": "2023-04-10T21:55:20.519549Z"
    },
    "collapsed": false,
    "jupyter": {
     "outputs_hidden": false
    },
    "tags": []
   },
   "outputs": [
    {
     "name": "stderr",
     "output_type": "stream",
     "text": [
      "/Users/macbook/miniconda3/envs/ome/lib/python3.10/site-packages/geopandas/_compat.py:123: UserWarning: The Shapely GEOS version (3.11.1-CAPI-1.17.1) is incompatible with the GEOS version PyGEOS was compiled with (3.10.4-CAPI-1.16.2). Conversions between both will be slow.\n",
      "  warnings.warn(\n",
      "/Users/macbook/embl/projects/basel/spatialdata/src/spatialdata/__init__.py:9: UserWarning: Geopandas was set to use PyGEOS, changing to shapely 2.0 with:\n",
      "\n",
      "\tgeopandas.options.use_pygeos = True\n",
      "\n",
      "If you intended to use PyGEOS, set the option to False.\n",
      "  _check_geopandas_using_shapely()\n",
      "/Users/macbook/miniconda3/envs/ome/lib/python3.10/site-packages/tqdm/auto.py:21: TqdmWarning: IProgress not found. Please update jupyter and ipywidgets. See https://ipywidgets.readthedocs.io/en/stable/user_install.html\n",
      "  from .autonotebook import tqdm as notebook_tqdm\n"
     ]
    }
   ],
   "source": [
    "import spatialdata as sd\n",
    "from napari_spatialdata import Interactive"
   ]
  },
  {
   "cell_type": "markdown",
   "id": "c9970140-afdd-499b-94f8-d6dd50792dac",
   "metadata": {
    "jupyter": {
     "outputs_hidden": false
    },
    "tags": []
   },
   "source": [
    "You can download the data from here: [Visium dataset](https://s3.embl.de/spatialdata/spatialdata-sandbox/visium_associated_xenium_io.zip). Please rename the file to `visium.zarr` and place it in the same folder as this notebook (or use symlinks to make the data accessible)."
   ]
  },
  {
   "cell_type": "code",
   "execution_count": 2,
   "id": "d981654b-bfe2-453c-906c-b1b386a83078",
   "metadata": {
    "tags": []
   },
   "outputs": [],
   "source": [
    "visium_sdata = sd.read_zarr(\"visium.zarr\")"
   ]
  },
  {
   "cell_type": "markdown",
   "id": "e882d101-b602-4f06-87f3-57d503ec4d05",
   "metadata": {},
   "source": [
    "## Adding shapes annotations\n",
    "\n",
    "We can use `napari` to draw rectangles and generic polygons.\n",
    "\n",
    "This is the procedure to annotate and save the shapes (shown in the GIF):\n",
    "1. open `napari` with `Interactive()` from `napari_spatialdata`\n",
    "2. create a new Shapes layer in napari\n",
    "3. (optional) rename the layer\n",
    "4. (optional) change the fill and border propoerties for easier visualization\n",
    "5. select the \"Rectangle tool\" or the \"Polygon tool\"\n",
    "6. (optional) use the `napari` functions to move/delete/modify the shapes (shown later)\n",
    "7. save the annotation to the `SpatialData` object by pressing `Shift + E` (if you called `Interactive()` passing multiple `SpatialData` objects, the annotations will be saved to one of them).\n"
   ]
  },
  {
   "cell_type": "raw",
   "id": "d4594499-481f-4542-a1f1-5d57acb3ac7b",
   "metadata": {
    "tags": []
   },
   "source": [
    "Interactive(visium_sdata)"
   ]
  },
  {
   "cell_type": "markdown",
   "id": "6f539dcc-d65c-4276-9549-217fed59437d",
   "metadata": {
    "tags": []
   },
   "source": [
    "![](attachments/rois0.gif)"
   ]
  },
  {
   "cell_type": "markdown",
   "id": "2bcd59da-6140-4590-b994-1800309440c9",
   "metadata": {},
   "source": [
    "When pressing `Shift + E`, the shapes are saved. Anyway, for making this notebook reproducible, let's manually hardcode the shapes that have been drawn in the GIF above. The code produces data that is equivalent to the one given by `napari`. Note that we could have also put the shapes in a new `SpatialData` objects, saved this to Zarr and loaded it here."
   ]
  },
  {
   "cell_type": "code",
   "execution_count": 4,
   "id": "849a6fcc-5f73-4080-8a55-984b6385de6e",
   "metadata": {
    "tags": []
   },
   "outputs": [],
   "source": [
    "import numpy as np\n",
    "from geopandas import GeoDataFrame\n",
    "from shapely import Polygon\n",
    "from spatialdata.models import ShapesModel\n",
    "from spatialdata.transformations import Identity\n",
    "\n",
    "shape0 = np.array([[7758.0, 11577.0, 11577.0, 7758.0, 7758.0], [10928.0, 10928.0, 17197.0, 17197.0, 10928.0]])\n",
    "\n",
    "shape1 = np.array([[11721.0, 14712.0, 14712.0, 11721.0, 11721.0], [12117.0, 12117.0, 16801.0, 16801.0, 12117.0]])\n",
    "\n",
    "shape2 = np.array(\n",
    "    [\n",
    "        [\n",
    "            31320.0,\n",
    "            28114.0,\n",
    "            26745.0,\n",
    "            26060.0,\n",
    "            22998.0,\n",
    "            23863.0,\n",
    "            23899.0,\n",
    "            29159.0,\n",
    "            29195.0,\n",
    "            32113.0,\n",
    "            31789.0,\n",
    "            33230.0,\n",
    "            31320.0,\n",
    "        ],\n",
    "        [\n",
    "            23286.0,\n",
    "            20764.0,\n",
    "            20836.0,\n",
    "            19215.0,\n",
    "            18170.0,\n",
    "            15756.0,\n",
    "            12081.0,\n",
    "            12766.0,\n",
    "            14567.0,\n",
    "            17125.0,\n",
    "            18530.0,\n",
    "            20692.0,\n",
    "            23286.0,\n",
    "        ],\n",
    "    ]\n",
    ")\n",
    "\n",
    "\n",
    "def numpy_to_shapely(x: np.array) -> Polygon:\n",
    "    return Polygon(list(map(tuple, x.T)))\n",
    "\n",
    "\n",
    "gdf = GeoDataFrame({\"geometry\": [numpy_to_shapely(shape0), numpy_to_shapely(shape1), numpy_to_shapely(shape2)]})\n",
    "gdf = ShapesModel.parse(gdf, transformations={\"aligned\": Identity()})\n",
    "visium_sdata.shapes[\"my_shapes\"] = gdf"
   ]
  },
  {
   "cell_type": "markdown",
   "id": "ce3e6bd8-d16e-47db-ac98-32847cd7f6a2",
   "metadata": {},
   "source": [
    "Importantly, notice how the shapes `\"my_shapes\"`, now available in the `SpatialData` object, are aligned to the `\"aligned\"` coordinate system. This is because the shapes have been drawn when the coordinate system `\"aligned\"` was selected in `napari`."
   ]
  },
  {
   "cell_type": "code",
   "execution_count": 5,
   "id": "b16e7554-0f38-439d-9b46-e3fc651d1ee2",
   "metadata": {
    "tags": []
   },
   "outputs": [
    {
     "data": {
      "text/plain": [
       "SpatialData object with:\n",
       "├── Images\n",
       "│     ├── 'CytAssist_FFPE_Human_Breast_Cancer_full_image': MultiscaleSpatialImage[cyx] (3, 21571, 19505), (3, 10785, 9752), (3, 5392, 4876), (3, 2696, 2438), (3, 1348, 1219)\n",
       "│     ├── 'CytAssist_FFPE_Human_Breast_Cancer_hires_image': SpatialImage[cyx] (3, 2000, 1809)\n",
       "│     └── 'CytAssist_FFPE_Human_Breast_Cancer_lowres_image': SpatialImage[cyx] (3, 600, 543)\n",
       "├── Shapes\n",
       "│     ├── 'CytAssist_FFPE_Human_Breast_Cancer': GeoDataFrame shape: (4992, 2) (2D shapes)\n",
       "│     ├── 'lass0o': GeoDataFrame shape: (1, 1) (2D shapes)\n",
       "│     ├── 'lasso': GeoDataFrame shape: (1, 1) (2D shapes)\n",
       "│     ├── 'lassso': GeoDataFrame shape: (1, 1) (2D shapes)\n",
       "│     └── 'my_shapes': GeoDataFrame shape: (3, 1) (2D shapes)\n",
       "└── Table\n",
       "      └── AnnData object with n_obs × n_vars = 4992 × 18085\n",
       "    obs: 'in_tissue', 'array_row', 'array_col', 'spot_id', 'region', 'dataset', 'clone'\n",
       "    var: 'gene_ids', 'feature_types', 'genome'\n",
       "    uns: 'clone_colors', 'region_colors', 'spatial', 'spatialdata_attrs'\n",
       "    obsm: 'spatial': AnnData (4992, 18085)\n",
       "with coordinate systems:\n",
       "▸ 'aligned', with elements:\n",
       "        CytAssist_FFPE_Human_Breast_Cancer_full_image (Images), CytAssist_FFPE_Human_Breast_Cancer (Shapes), lass0o (Shapes), lasso (Shapes), lassso (Shapes), my_shapes (Shapes)\n",
       "▸ 'downscaled_hires', with elements:\n",
       "        CytAssist_FFPE_Human_Breast_Cancer_hires_image (Images), CytAssist_FFPE_Human_Breast_Cancer (Shapes)\n",
       "▸ 'downscaled_lowres', with elements:\n",
       "        CytAssist_FFPE_Human_Breast_Cancer_lowres_image (Images), CytAssist_FFPE_Human_Breast_Cancer (Shapes)\n",
       "▸ 'global', with elements:\n",
       "        CytAssist_FFPE_Human_Breast_Cancer_full_image (Images), CytAssist_FFPE_Human_Breast_Cancer (Shapes)"
      ]
     },
     "execution_count": 5,
     "metadata": {},
     "output_type": "execute_result"
    }
   ],
   "source": [
    "visium_sdata"
   ]
  },
  {
   "cell_type": "markdown",
   "id": "de893dc4-9ce8-48a1-bd01-671f53262cbb",
   "metadata": {},
   "source": [
    "The shapes are stored in a `geopandas.GeoDataFrame` as `shapely.Polygon` objects. Hence we can use them in any `geopandas`/`shapely` workflow."
   ]
  },
  {
   "cell_type": "code",
   "execution_count": 6,
   "id": "7eb48cd4-8093-4262-885b-16229a3ec51f",
   "metadata": {
    "tags": []
   },
   "outputs": [
    {
     "data": {
      "text/html": [
       "<div>\n",
       "<style scoped>\n",
       "    .dataframe tbody tr th:only-of-type {\n",
       "        vertical-align: middle;\n",
       "    }\n",
       "\n",
       "    .dataframe tbody tr th {\n",
       "        vertical-align: top;\n",
       "    }\n",
       "\n",
       "    .dataframe thead th {\n",
       "        text-align: right;\n",
       "    }\n",
       "</style>\n",
       "<table border=\"1\" class=\"dataframe\">\n",
       "  <thead>\n",
       "    <tr style=\"text-align: right;\">\n",
       "      <th></th>\n",
       "      <th>geometry</th>\n",
       "    </tr>\n",
       "  </thead>\n",
       "  <tbody>\n",
       "    <tr>\n",
       "      <th>0</th>\n",
       "      <td>POLYGON ((7758.000 10928.000, 11577.000 10928....</td>\n",
       "    </tr>\n",
       "    <tr>\n",
       "      <th>1</th>\n",
       "      <td>POLYGON ((11721.000 12117.000, 14712.000 12117...</td>\n",
       "    </tr>\n",
       "    <tr>\n",
       "      <th>2</th>\n",
       "      <td>POLYGON ((31320.000 23286.000, 28114.000 20764...</td>\n",
       "    </tr>\n",
       "  </tbody>\n",
       "</table>\n",
       "</div>"
      ],
      "text/plain": [
       "                                            geometry\n",
       "0  POLYGON ((7758.000 10928.000, 11577.000 10928....\n",
       "1  POLYGON ((11721.000 12117.000, 14712.000 12117...\n",
       "2  POLYGON ((31320.000 23286.000, 28114.000 20764..."
      ]
     },
     "execution_count": 6,
     "metadata": {},
     "output_type": "execute_result"
    }
   ],
   "source": [
    "visium_sdata[\"my_shapes\"]"
   ]
  },
  {
   "cell_type": "markdown",
   "id": "85a5bec9-6f38-4e7f-a9f6-1264f43c4ce8",
   "metadata": {},
   "source": [
    "We can quickly see the shapes in the notebook (thanks to `shapely`). For more complex visualization involving different elements or different coordinate system we can rely on `spatialdata-plot`."
   ]
  },
  {
   "cell_type": "code",
   "execution_count": 7,
   "id": "920ad9a0-a9e9-42f6-8dcf-cbd1d2e268df",
   "metadata": {
    "tags": []
   },
   "outputs": [
    {
     "data": {
      "image/svg+xml": [
       "<svg xmlns=\"http://www.w3.org/2000/svg\" xmlns:xlink=\"http://www.w3.org/1999/xlink\" width=\"300\" height=\"300\" viewBox=\"7507.24 10677.24 4320.52 6770.519999999999\" preserveAspectRatio=\"xMinYMin meet\"><g transform=\"matrix(1,0,0,-1,0,28125.0)\"><path fill-rule=\"evenodd\" fill=\"#66cc99\" stroke=\"#555555\" stroke-width=\"45.136799999999994\" opacity=\"0.6\" d=\"M 7758.0,10928.0 L 11577.0,10928.0 L 11577.0,17197.0 L 7758.0,17197.0 L 7758.0,10928.0 z\" /></g></svg>"
      ],
      "text/plain": [
       "<POLYGON ((7758 10928, 11577 10928, 11577 17197, 7758 17197, 7758 10928))>"
      ]
     },
     "execution_count": 7,
     "metadata": {},
     "output_type": "execute_result"
    }
   ],
   "source": [
    "visium_sdata[\"my_shapes\"].geometry.iloc[0]"
   ]
  },
  {
   "cell_type": "code",
   "execution_count": 8,
   "id": "f3928c32-45b4-4aae-bbae-5f7dba3df33d",
   "metadata": {
    "tags": []
   },
   "outputs": [
    {
     "data": {
      "image/svg+xml": [
       "<svg xmlns=\"http://www.w3.org/2000/svg\" xmlns:xlink=\"http://www.w3.org/1999/xlink\" width=\"300\" height=\"300\" viewBox=\"22549.8 11632.8 11128.399999999998 12101.400000000001\" preserveAspectRatio=\"xMinYMin meet\"><g transform=\"matrix(1,0,0,-1,0,35367.0)\"><path fill-rule=\"evenodd\" fill=\"#66cc99\" stroke=\"#555555\" stroke-width=\"80.67600000000002\" opacity=\"0.6\" d=\"M 31320.0,23286.0 L 28114.0,20764.0 L 26745.0,20836.0 L 26060.0,19215.0 L 22998.0,18170.0 L 23863.0,15756.0 L 23899.0,12081.0 L 29159.0,12766.0 L 29195.0,14567.0 L 32113.0,17125.0 L 31789.0,18530.0 L 33230.0,20692.0 L 31320.0,23286.0 z\" /></g></svg>"
      ],
      "text/plain": [
       "<POLYGON ((31320 23286, 28114 20764, 26745 20836, 26060 19215, 22998 18170, ...>"
      ]
     },
     "execution_count": 8,
     "metadata": {},
     "output_type": "execute_result"
    }
   ],
   "source": [
    "visium_sdata[\"my_shapes\"].geometry.iloc[2]"
   ]
  },
  {
   "cell_type": "markdown",
   "id": "a6057096-3aee-486a-b336-800a1df0343e",
   "metadata": {},
   "source": [
    "## Manipulating the shapes in napari\n",
    "\n",
    "Here is an example of how we can use napari to move/modify/delete some of the shapes, and save them to another layer (in-place overwrite is also supported)."
   ]
  },
  {
   "cell_type": "markdown",
   "id": "c371f824-98fa-40c2-8ae5-e5abb658208b",
   "metadata": {},
   "source": [
    "Interactive(visium_sdata)"
   ]
  },
  {
   "cell_type": "markdown",
   "id": "116e993a-e78c-4aee-9210-f6900e258b21",
   "metadata": {
    "tags": []
   },
   "source": [
    "![](attachments/rois1.gif)"
   ]
  },
  {
   "cell_type": "markdown",
   "id": "e0e25ab0-a371-47d9-81cb-ebf6343f292b",
   "metadata": {},
   "source": [
    "We saved the new layer as `my_shapes_2` inside the same `SpatialData` object (again using the `\"aligned\"` coordinate system)."
   ]
  },
  {
   "cell_type": "markdown",
   "id": "29ba11d9-1706-423b-b7c9-9abdf62962bf",
   "metadata": {},
   "source": [
    "As above, let's hardcode the shapes to make this notebook reproducible."
   ]
  },
  {
   "cell_type": "code",
   "execution_count": 10,
   "id": "eec065cf-1de3-4a28-985d-4d0f30adc710",
   "metadata": {
    "tags": []
   },
   "outputs": [],
   "source": [
    "shape0 = np.array([[3471.0, 7290.0, 7290.0, 3471.0, 3471.0], [5848.0, 5848.0, 12117.0, 12117.0, 5848.0]])\n",
    "\n",
    "shape1 = np.array([[18278.0, 21269.0, 21269.0, 18278.0, 18278.0], [3435.0, 3435.0, 8118.0, 8118.0, 3435.0]])\n",
    "\n",
    "shape2 = np.array(\n",
    "    [\n",
    "        [\n",
    "            37049.0,\n",
    "            28114.0,\n",
    "            26745.0,\n",
    "            26060.0,\n",
    "            4696.0,\n",
    "            23863.0,\n",
    "            25160.0,\n",
    "            29159.0,\n",
    "            29195.0,\n",
    "            32113.0,\n",
    "            31789.0,\n",
    "            33230.0,\n",
    "            37049.0,\n",
    "        ],\n",
    "        [\n",
    "            34274.0,\n",
    "            20764.0,\n",
    "            20836.0,\n",
    "            19215.0,\n",
    "            20116.0,\n",
    "            15756.0,\n",
    "            84.0,\n",
    "            12766.0,\n",
    "            14567.0,\n",
    "            17125.0,\n",
    "            18530.0,\n",
    "            20692.0,\n",
    "            34274.0,\n",
    "        ],\n",
    "    ]\n",
    ")\n",
    "\n",
    "gdf = GeoDataFrame({\"geometry\": [numpy_to_shapely(shape0), numpy_to_shapely(shape1), numpy_to_shapely(shape2)]})\n",
    "gdf = ShapesModel.parse(gdf, transformations={\"aligned\": Identity()})\n",
    "visium_sdata.shapes[\"my_shapes_2\"] = gdf"
   ]
  },
  {
   "cell_type": "code",
   "execution_count": 11,
   "id": "265725f6-a143-41e0-8438-9585f4cee09e",
   "metadata": {
    "tags": []
   },
   "outputs": [
    {
     "data": {
      "text/plain": [
       "SpatialData object with:\n",
       "├── Images\n",
       "│     ├── 'CytAssist_FFPE_Human_Breast_Cancer_full_image': MultiscaleSpatialImage[cyx] (3, 21571, 19505), (3, 10785, 9752), (3, 5392, 4876), (3, 2696, 2438), (3, 1348, 1219)\n",
       "│     ├── 'CytAssist_FFPE_Human_Breast_Cancer_hires_image': SpatialImage[cyx] (3, 2000, 1809)\n",
       "│     └── 'CytAssist_FFPE_Human_Breast_Cancer_lowres_image': SpatialImage[cyx] (3, 600, 543)\n",
       "├── Shapes\n",
       "│     ├── 'CytAssist_FFPE_Human_Breast_Cancer': GeoDataFrame shape: (4992, 2) (2D shapes)\n",
       "│     ├── 'lass0o': GeoDataFrame shape: (1, 1) (2D shapes)\n",
       "│     ├── 'lasso': GeoDataFrame shape: (1, 1) (2D shapes)\n",
       "│     ├── 'lassso': GeoDataFrame shape: (1, 1) (2D shapes)\n",
       "│     ├── 'my_shapes': GeoDataFrame shape: (3, 1) (2D shapes)\n",
       "│     └── 'my_shapes_2': GeoDataFrame shape: (3, 1) (2D shapes)\n",
       "└── Table\n",
       "      └── AnnData object with n_obs × n_vars = 4992 × 18085\n",
       "    obs: 'in_tissue', 'array_row', 'array_col', 'spot_id', 'region', 'dataset', 'clone'\n",
       "    var: 'gene_ids', 'feature_types', 'genome'\n",
       "    uns: 'clone_colors', 'region_colors', 'spatial', 'spatialdata_attrs'\n",
       "    obsm: 'spatial': AnnData (4992, 18085)\n",
       "with coordinate systems:\n",
       "▸ 'aligned', with elements:\n",
       "        CytAssist_FFPE_Human_Breast_Cancer_full_image (Images), CytAssist_FFPE_Human_Breast_Cancer (Shapes), lass0o (Shapes), lasso (Shapes), lassso (Shapes), my_shapes (Shapes), my_shapes_2 (Shapes)\n",
       "▸ 'downscaled_hires', with elements:\n",
       "        CytAssist_FFPE_Human_Breast_Cancer_hires_image (Images), CytAssist_FFPE_Human_Breast_Cancer (Shapes)\n",
       "▸ 'downscaled_lowres', with elements:\n",
       "        CytAssist_FFPE_Human_Breast_Cancer_lowres_image (Images), CytAssist_FFPE_Human_Breast_Cancer (Shapes)\n",
       "▸ 'global', with elements:\n",
       "        CytAssist_FFPE_Human_Breast_Cancer_full_image (Images), CytAssist_FFPE_Human_Breast_Cancer (Shapes)"
      ]
     },
     "execution_count": 11,
     "metadata": {},
     "output_type": "execute_result"
    }
   ],
   "source": [
    "visium_sdata"
   ]
  },
  {
   "cell_type": "code",
   "execution_count": 12,
   "id": "07cb973d-4dc4-476d-956b-e73de5ca2f56",
   "metadata": {
    "tags": []
   },
   "outputs": [
    {
     "data": {
      "image/svg+xml": [
       "<svg xmlns=\"http://www.w3.org/2000/svg\" xmlns:xlink=\"http://www.w3.org/1999/xlink\" width=\"300\" height=\"300\" viewBox=\"3328.3999999999996 -1283.6000000000001 35088.2 36925.2\" preserveAspectRatio=\"xMinYMin meet\"><g transform=\"matrix(1,0,0,-1,0,34358.0)\"><path fill-rule=\"evenodd\" fill=\"#66cc99\" stroke=\"#555555\" stroke-width=\"246.16799999999998\" opacity=\"0.6\" d=\"M 37049.0,34274.0 L 28114.0,20764.0 L 26745.0,20836.0 L 26060.0,19215.0 L 4696.0,20116.0 L 23863.0,15756.0 L 25160.0,84.0 L 29159.0,12766.0 L 29195.0,14567.0 L 32113.0,17125.0 L 31789.0,18530.0 L 33230.0,20692.0 L 37049.0,34274.0 z\" /></g></svg>"
      ],
      "text/plain": [
       "<POLYGON ((37049 34274, 28114 20764, 26745 20836, 26060 19215, 4696 20116, 2...>"
      ]
     },
     "execution_count": 12,
     "metadata": {},
     "output_type": "execute_result"
    }
   ],
   "source": [
    "visium_sdata[\"my_shapes_2\"].geometry.iloc[2]"
   ]
  },
  {
   "cell_type": "markdown",
   "id": "f93c677b-c645-4e4b-abbb-d7ff8eccdd96",
   "metadata": {},
   "source": [
    "## Lasso annotations\n",
    "We are working with the `napari` developers for enabling a lasso tool for drawing anatomical annotations. This functionality will be part of `napari` as a new button in the user interface. With `SpatialData` it will be possible to save and represent the annotatoins in-memory, as shown above. The lasso tool will have support for both mouse/trackpad and graphic tables.\n",
    "\n",
    "In the GIF you can see a preview, the experimental code is available at https://github.com/napari/napari/pull/5555."
   ]
  },
  {
   "cell_type": "raw",
   "id": "d5f3ac38-3dbe-41f7-86e7-da2c154d03d2",
   "metadata": {
    "tags": []
   },
   "source": [
    "Interactive(visium_sdata)"
   ]
  },
  {
   "cell_type": "markdown",
   "id": "7d78b203-8040-4aa6-816a-bade8dc8a8b1",
   "metadata": {
    "tags": []
   },
   "source": [
    "![](attachments/rois2.gif)"
   ]
  },
  {
   "cell_type": "code",
   "execution_count": 14,
   "id": "e7e88143-14e1-4210-9b8f-f282ebb93fdd",
   "metadata": {},
   "outputs": [],
   "source": [
    "# we rounded the coordinates to make it less verbose here in the notebook\n",
    "shape0 = (\n",
    "    np.array(\n",
    "        [\n",
    "            [\n",
    "                182.0,\n",
    "                181.0,\n",
    "                179.0,\n",
    "                178.0,\n",
    "                174.0,\n",
    "                173.0,\n",
    "                172.0,\n",
    "                168.0,\n",
    "                165.0,\n",
    "                164.0,\n",
    "                164.0,\n",
    "                166.0,\n",
    "                167.0,\n",
    "                168.0,\n",
    "                169.0,\n",
    "                169.0,\n",
    "                168.0,\n",
    "                166.0,\n",
    "                163.0,\n",
    "                163.0,\n",
    "                163.0,\n",
    "                164.0,\n",
    "                165.0,\n",
    "                167.0,\n",
    "                168.0,\n",
    "                169.0,\n",
    "                172.0,\n",
    "                173.0,\n",
    "                174.0,\n",
    "                175.0,\n",
    "                180.0,\n",
    "                185.0,\n",
    "                187.0,\n",
    "                188.0,\n",
    "                189.0,\n",
    "                190.0,\n",
    "                191.0,\n",
    "                192.0,\n",
    "                193.0,\n",
    "                194.0,\n",
    "                196.0,\n",
    "                198.0,\n",
    "                200.0,\n",
    "                202.0,\n",
    "                205.0,\n",
    "                207.0,\n",
    "                209.0,\n",
    "                211.0,\n",
    "                212.0,\n",
    "                213.0,\n",
    "                215.0,\n",
    "                215.0,\n",
    "                216.0,\n",
    "                216.0,\n",
    "                215.0,\n",
    "                215.0,\n",
    "                214.0,\n",
    "                212.0,\n",
    "                211.0,\n",
    "                209.0,\n",
    "                208.0,\n",
    "                208.0,\n",
    "                206.0,\n",
    "                205.0,\n",
    "                204.0,\n",
    "                202.0,\n",
    "                200.0,\n",
    "                196.0,\n",
    "                195.0,\n",
    "                195.0,\n",
    "                195.0,\n",
    "                194.0,\n",
    "                192.0,\n",
    "                190.0,\n",
    "                189.0,\n",
    "                186.0,\n",
    "                184.0,\n",
    "                184.0,\n",
    "                183.0,\n",
    "                184.0,\n",
    "                185.0,\n",
    "                186.0,\n",
    "                186.0,\n",
    "                184.0,\n",
    "                182.0,\n",
    "                182.0,\n",
    "                182.0,\n",
    "                183.0,\n",
    "                183.0,\n",
    "                183.0,\n",
    "                182.0,\n",
    "                182.0,\n",
    "                183.0,\n",
    "                183.0,\n",
    "                181.0,\n",
    "                178.0,\n",
    "                178.0,\n",
    "                178.0,\n",
    "                179.0,\n",
    "                180.0,\n",
    "                182.0,\n",
    "                182.0,\n",
    "                183.0,\n",
    "                183.0,\n",
    "                182.0,\n",
    "            ],\n",
    "            [\n",
    "                105.0,\n",
    "                105.0,\n",
    "                106.0,\n",
    "                107.0,\n",
    "                108.0,\n",
    "                109.0,\n",
    "                110.0,\n",
    "                112.0,\n",
    "                114.0,\n",
    "                115.0,\n",
    "                118.0,\n",
    "                121.0,\n",
    "                122.0,\n",
    "                123.0,\n",
    "                125.0,\n",
    "                126.0,\n",
    "                129.0,\n",
    "                136.0,\n",
    "                140.0,\n",
    "                141.0,\n",
    "                143.0,\n",
    "                151.0,\n",
    "                153.0,\n",
    "                155.0,\n",
    "                157.0,\n",
    "                158.0,\n",
    "                160.0,\n",
    "                162.0,\n",
    "                162.0,\n",
    "                163.0,\n",
    "                168.0,\n",
    "                173.0,\n",
    "                174.0,\n",
    "                174.0,\n",
    "                175.0,\n",
    "                176.0,\n",
    "                178.0,\n",
    "                179.0,\n",
    "                179.0,\n",
    "                181.0,\n",
    "                181.0,\n",
    "                182.0,\n",
    "                183.0,\n",
    "                183.0,\n",
    "                183.0,\n",
    "                183.0,\n",
    "                182.0,\n",
    "                181.0,\n",
    "                179.0,\n",
    "                177.0,\n",
    "                174.0,\n",
    "                173.0,\n",
    "                170.0,\n",
    "                167.0,\n",
    "                164.0,\n",
    "                160.0,\n",
    "                159.0,\n",
    "                158.0,\n",
    "                159.0,\n",
    "                161.0,\n",
    "                161.0,\n",
    "                161.0,\n",
    "                158.0,\n",
    "                156.0,\n",
    "                156.0,\n",
    "                156.0,\n",
    "                157.0,\n",
    "                160.0,\n",
    "                161.0,\n",
    "                162.0,\n",
    "                164.0,\n",
    "                164.0,\n",
    "                164.0,\n",
    "                162.0,\n",
    "                161.0,\n",
    "                160.0,\n",
    "                159.0,\n",
    "                157.0,\n",
    "                156.0,\n",
    "                153.0,\n",
    "                151.0,\n",
    "                148.0,\n",
    "                147.0,\n",
    "                145.0,\n",
    "                144.0,\n",
    "                143.0,\n",
    "                141.0,\n",
    "                139.0,\n",
    "                137.0,\n",
    "                136.0,\n",
    "                135.0,\n",
    "                134.0,\n",
    "                132.0,\n",
    "                131.0,\n",
    "                129.0,\n",
    "                126.0,\n",
    "                123.0,\n",
    "                120.0,\n",
    "                118.0,\n",
    "                115.0,\n",
    "                112.0,\n",
    "                111.0,\n",
    "                110.0,\n",
    "                109.0,\n",
    "                105.0,\n",
    "            ],\n",
    "        ]\n",
    "    )\n",
    "    * 100\n",
    ")\n",
    "\n",
    "\n",
    "gdf = GeoDataFrame({\"geometry\": [numpy_to_shapely(shape0)]})\n",
    "gdf = ShapesModel.parse(gdf, transformations={\"aligned\": Identity()})\n",
    "visium_sdata.shapes[\"lasso\"] = gdf"
   ]
  },
  {
   "cell_type": "code",
   "execution_count": 15,
   "id": "a39af193-ecc9-4f2b-9fe3-a21aa6e3612b",
   "metadata": {},
   "outputs": [
    {
     "data": {
      "image/svg+xml": [
       "<svg xmlns=\"http://www.w3.org/2000/svg\" xmlns:xlink=\"http://www.w3.org/1999/xlink\" width=\"300\" height=\"300\" viewBox=\"15988.0 10188.0 5924.0 8424.0\" preserveAspectRatio=\"xMinYMin meet\"><g transform=\"matrix(1,0,0,-1,0,28800.0)\"><path fill-rule=\"evenodd\" fill=\"#66cc99\" stroke=\"#555555\" stroke-width=\"56.16\" opacity=\"0.6\" d=\"M 18200.0,10500.0 L 18100.0,10500.0 L 17900.0,10600.0 L 17800.0,10700.0 L 17400.0,10800.0 L 17300.0,10900.0 L 17200.0,11000.0 L 16800.0,11200.0 L 16500.0,11400.0 L 16400.0,11500.0 L 16400.0,11800.0 L 16600.0,12100.0 L 16700.0,12200.0 L 16800.0,12300.0 L 16900.0,12500.0 L 16900.0,12600.0 L 16800.0,12900.0 L 16600.0,13600.0 L 16300.0,14000.0 L 16300.0,14100.0 L 16300.0,14300.0 L 16400.0,15100.0 L 16500.0,15300.0 L 16700.0,15500.0 L 16800.0,15700.0 L 16900.0,15800.0 L 17200.0,16000.0 L 17300.0,16200.0 L 17400.0,16200.0 L 17500.0,16300.0 L 18000.0,16800.0 L 18500.0,17300.0 L 18700.0,17400.0 L 18800.0,17400.0 L 18900.0,17500.0 L 19000.0,17600.0 L 19100.0,17800.0 L 19200.0,17900.0 L 19300.0,17900.0 L 19400.0,18100.0 L 19600.0,18100.0 L 19800.0,18200.0 L 20000.0,18300.0 L 20200.0,18300.0 L 20500.0,18300.0 L 20700.0,18300.0 L 20900.0,18200.0 L 21100.0,18100.0 L 21200.0,17900.0 L 21300.0,17700.0 L 21500.0,17400.0 L 21500.0,17300.0 L 21600.0,17000.0 L 21600.0,16700.0 L 21500.0,16400.0 L 21500.0,16000.0 L 21400.0,15900.0 L 21200.0,15800.0 L 21100.0,15900.0 L 20900.0,16100.0 L 20800.0,16100.0 L 20800.0,16100.0 L 20600.0,15800.0 L 20500.0,15600.0 L 20400.0,15600.0 L 20200.0,15600.0 L 20000.0,15700.0 L 19600.0,16000.0 L 19500.0,16100.0 L 19500.0,16200.0 L 19500.0,16400.0 L 19400.0,16400.0 L 19200.0,16400.0 L 19000.0,16200.0 L 18900.0,16100.0 L 18600.0,16000.0 L 18400.0,15900.0 L 18400.0,15700.0 L 18300.0,15600.0 L 18400.0,15300.0 L 18500.0,15100.0 L 18600.0,14800.0 L 18600.0,14700.0 L 18400.0,14500.0 L 18200.0,14400.0 L 18200.0,14300.0 L 18200.0,14100.0 L 18300.0,13900.0 L 18300.0,13700.0 L 18300.0,13600.0 L 18200.0,13500.0 L 18200.0,13400.0 L 18300.0,13200.0 L 18300.0,13100.0 L 18100.0,12900.0 L 17800.0,12600.0 L 17800.0,12300.0 L 17800.0,12000.0 L 17900.0,11800.0 L 18000.0,11500.0 L 18200.0,11200.0 L 18200.0,11100.0 L 18300.0,11000.0 L 18300.0,10900.0 L 18200.0,10500.0 z\" /></g></svg>"
      ],
      "text/plain": [
       "<POLYGON ((18200 10500, 18100 10500, 17900 10600, 17800 10700, 17400 10800, ...>"
      ]
     },
     "execution_count": 15,
     "metadata": {},
     "output_type": "execute_result"
    }
   ],
   "source": [
    "visium_sdata.shapes[\"lasso\"].geometry.iloc[0]"
   ]
  },
  {
   "cell_type": "markdown",
   "id": "09c3bb6c-38e4-4e44-995d-de6b4eabd006",
   "metadata": {},
   "source": [
    "## Limitations"
   ]
  },
  {
   "cell_type": "markdown",
   "id": "9b237d28-6fa9-4599-bc50-1ffc26a1652e",
   "metadata": {},
   "source": [
    "Currently we support saving rectangles, polygons and points with `napari` (see the landmark tutorial). We currently don't support saving circles, ellipses or segments. Furthermore, we ignore the style parameters that `napari` provides, such us fill color, border color, points size and line width. If you are interested in saving these types of annotations please get in touch with us or join the NGFF discussions on annotations in GitHub.\n"
   ]
  },
  {
   "cell_type": "markdown",
   "id": "c5e72ce7",
   "metadata": {},
   "source": [
    "## Visualising SpatialData object with Interactive from napari-spatialdata"
   ]
  },
  {
   "cell_type": "code",
   "execution_count": null,
   "id": "93b9a7b9",
   "metadata": {},
   "outputs": [],
   "source": [
    "Interactive(visium_sdata, headless=True)"
   ]
  }
 ],
 "metadata": {
  "kernelspec": {
   "display_name": "Python 3 (ipykernel)",
   "language": "python",
   "name": "python3"
  },
  "language_info": {
   "codemirror_mode": {
    "name": "ipython",
    "version": 3
   },
   "file_extension": ".py",
   "mimetype": "text/x-python",
   "name": "python",
   "nbconvert_exporter": "python",
   "pygments_lexer": "ipython3",
   "version": "3.11.0"
  }
 },
 "nbformat": 4,
 "nbformat_minor": 5
}
